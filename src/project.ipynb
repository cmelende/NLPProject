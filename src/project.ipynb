{
 "cells": [
  {
   "cell_type": "markdown",
   "metadata": {
    "collapsed": true,
    "pycharm": {
     "name": "#%% md\n"
    }
   },
   "source": [
    "###### Cory Melendez\n",
    "###### Natural Language Processing Project\n",
    "###### https://github.com/cmelende/NLPProject.git\n",
    "###### 12/11/20\n"
   ]
  },
  {
   "cell_type": "markdown",
   "source": [
    "###### 1. Import libraries, load dataset print shape of data, data description"
   ],
   "metadata": {
    "collapsed": false,
    "pycharm": {
     "name": "#%% md\n"
    }
   }
  },
  {
   "cell_type": "code",
   "execution_count": 37,
   "outputs": [],
   "source": [
    "from sklearn.ensemble import RandomForestClassifier\n",
    "from sklearn.model_selection import cross_val_score\n",
    "import matplotlib.pyplot as plt\n",
    "import seaborn as sns\n",
    "from sklearn.metrics import confusion_matrix\n",
    "from sklearn.ensemble import RandomForestClassifier\n",
    "from sklearn.model_selection import cross_val_score\n",
    "import numpy as np\n",
    "from sklearn.ensemble import RandomForestClassifier\n",
    "from sklearn.model_selection import cross_val_score\n",
    "import numpy as np\n",
    "import pandas as pd\n",
    "import re\n",
    "import spacy\n",
    "import nltk\n",
    "from sklearn.feature_extraction.text import TfidfVectorizer\n",
    "from sklearn.feature_extraction.text import CountVectorizer\n",
    "from nltk.corpus import stopwords\n",
    "from nltk.tokenize.toktok import ToktokTokenizer\n",
    "from bs4 import BeautifulSoup"
   ],
   "metadata": {
    "collapsed": false,
    "pycharm": {
     "name": "#%%\n"
    }
   }
  },
  {
   "cell_type": "code",
   "execution_count": 24,
   "outputs": [
    {
     "name": "stdout",
     "output_type": "stream",
     "text": [
      "Shape of Data is:  (14640, 15)\n",
      "Description of data is: /n            tweet_id  airline_sentiment_confidence  negativereason_confidence  \\\n",
      "count  1.464000e+04                  14640.000000               10522.000000   \n",
      "mean   5.692184e+17                      0.900169                   0.638298   \n",
      "std    7.791112e+14                      0.162830                   0.330440   \n",
      "min    5.675883e+17                      0.335000                   0.000000   \n",
      "25%    5.685592e+17                      0.692300                   0.360600   \n",
      "50%    5.694779e+17                      1.000000                   0.670600   \n",
      "75%    5.698905e+17                      1.000000                   1.000000   \n",
      "max    5.703106e+17                      1.000000                   1.000000   \n",
      "\n",
      "       retweet_count  \n",
      "count   14640.000000  \n",
      "mean        0.082650  \n",
      "std         0.745778  \n",
      "min         0.000000  \n",
      "25%         0.000000  \n",
      "50%         0.000000  \n",
      "75%         0.000000  \n",
      "max        44.000000  \n"
     ]
    },
    {
     "name": "stderr",
     "output_type": "stream",
     "text": [
      "[nltk_data] Downloading package stopwords to\n",
      "[nltk_data]     C:\\Users\\Corym\\AppData\\Roaming\\nltk_data...\n",
      "[nltk_data]   Package stopwords is already up-to-date!\n"
     ]
    }
   ],
   "source": [
    "data_source = './data/Tweets.csv'\n",
    "nltk.download('stopwords')\n",
    "english_stopwords = stopwords.words(\"english\")\n",
    "df = pd.read_csv(data_source)\n",
    "print(\"Shape of Data is: \", df.shape)\n",
    "print(\"Description of data is: /n\", df.describe())\n"
   ],
   "metadata": {
    "collapsed": false,
    "pycharm": {
     "name": "#%%\n"
    }
   }
  },
  {
   "cell_type": "code",
   "source": [
    "tweet_col = 'tweet_id'\n",
    "airline_sentiment = 'airline_sentiment'\n",
    "airline_sentiment_confidence = 'airline_sentiment_confidence'\n",
    "negative_reason = 'negativereason'\n",
    "negative_reason_confidence = 'negativereason_confidence'\n",
    "airline = 'airline'\n",
    "airline_sentiment_gold = 'airline_sentiment_gold'\n",
    "name = 'name'\n",
    "negative_reason_gold = 'negativereason_gold'\n",
    "retweet_count = 'retweet_count'\n",
    "text = 'text'\n",
    "tweet_coord = 'tweet_coord'\n",
    "tweet_created = 'tweet_created'\n",
    "tweet_location = 'tweet_location'\n",
    "user_timezone = 'user_timezone'\n",
    "all_cols = [tweet_col, airline_sentiment, airline_sentiment_confidence,\n",
    "            negative_reason, negative_reason_confidence, airline,\n",
    "            airline_sentiment_gold, name, negative_reason_gold,\n",
    "            retweet_count, text, tweet_coord, tweet_created,\n",
    "            tweet_location, user_timezone]"
   ],
   "metadata": {
    "collapsed": false,
    "pycharm": {
     "name": "#%%\n"
    }
   },
   "execution_count": 25,
   "outputs": []
  },
  {
   "cell_type": "markdown",
   "source": [
    "##### 2. Understand the data columns"
   ],
   "metadata": {
    "collapsed": false,
    "pycharm": {
     "name": "#%% md\n"
    }
   }
  },
  {
   "cell_type": "markdown",
   "source": [
    "###### a. Drop all other columns except 'text' and 'airline_sentiment'"
   ],
   "metadata": {
    "collapsed": false,
    "pycharm": {
     "name": "#%% md\n"
    }
   }
  },
  {
   "cell_type": "code",
   "execution_count": 26,
   "outputs": [],
   "source": [
    "def remove_columns(df, keep_columns, all_columns):\n",
    "    copy = pd.DataFrame()\n",
    "    for col in all_columns:\n",
    "        if col in keep_columns:\n",
    "            copy[col] = df[col]\n",
    "\n",
    "    return copy"
   ],
   "metadata": {
    "collapsed": false,
    "pycharm": {
     "name": "#%%\n"
    }
   }
  },
  {
   "cell_type": "markdown",
   "source": [
    "###### b. Check the shape of the data"
   ],
   "metadata": {
    "collapsed": false,
    "pycharm": {
     "name": "#%% md\n"
    }
   }
  },
  {
   "cell_type": "code",
   "execution_count": 27,
   "outputs": [
    {
     "name": "stdout",
     "output_type": "stream",
     "text": [
      "shape:  (14640, 2)\n"
     ]
    }
   ],
   "source": [
    "trimmed_df = remove_columns(df, [text, airline_sentiment], all_cols)\n",
    "print(\"shape: \", trimmed_df.shape)"
   ],
   "metadata": {
    "collapsed": false,
    "pycharm": {
     "name": "#%%\n"
    }
   }
  },
  {
   "cell_type": "markdown",
   "source": [
    "###### c. Print the first 5 rows"
   ],
   "metadata": {
    "collapsed": false,
    "pycharm": {
     "name": "#%% md\n"
    }
   }
  },
  {
   "cell_type": "code",
   "execution_count": 28,
   "outputs": [
    {
     "name": "stdout",
     "output_type": "stream",
     "text": [
      "first 5 rows\n",
      "  airline_sentiment                                               text\n",
      "0           neutral                @VirginAmerica What @dhepburn said.\n",
      "1          positive  @VirginAmerica plus you've added commercials t...\n",
      "2           neutral  @VirginAmerica I didn't today... Must mean I n...\n",
      "3          negative  @VirginAmerica it's really aggressive to blast...\n",
      "4          negative  @VirginAmerica and it's a really big bad thing...\n"
     ]
    }
   ],
   "source": [
    "print(\"first 5 rows\")\n",
    "print(trimmed_df.head(5))"
   ],
   "metadata": {
    "collapsed": false,
    "pycharm": {
     "name": "#%%\n"
    }
   }
  },
  {
   "cell_type": "markdown",
   "source": [
    "##### 3. Text Pre-processing: Data Preparation"
   ],
   "metadata": {
    "collapsed": false,
    "pycharm": {
     "name": "#%% md\n"
    }
   }
  },
  {
   "cell_type": "markdown",
   "source": [
    "###### note: doing all of the above in cell below\n",
    "###### a. Html tag removal\n",
    "###### c. Remove the numbers\n",
    "###### d. remove special characters and punctuations\n",
    "###### e. conversion to lowercase\n",
    "###### g. join the words in the list to convert back to text string in the dataframe (So that each row contains the data in text format)"
   ],
   "metadata": {
    "collapsed": false,
    "pycharm": {
     "name": "#%% md\n"
    }
   }
  },
  {
   "cell_type": "code",
   "execution_count": 29,
   "outputs": [],
   "source": [
    "def strip_html(text):\n",
    "    soup = BeautifulSoup(text, \"html.parser\")    # Removing HTML tags\n",
    "    return soup.get_text()\n",
    "\n",
    "def remove_special_characters_numbers(text):\n",
    "    pattern = r'[^a-zA-z\\s]'\n",
    "    text = re.sub(pattern, '', text)\n",
    "    return text\n",
    "\n",
    "def to_lowercase(text):\n",
    "    text = text.lower()\n",
    "    return text\n",
    "\n",
    "def clean_text(text):\n",
    "    text = strip_html(text)\n",
    "    text = remove_special_characters_numbers(text)\n",
    "    text = to_lowercase(text)\n",
    "    return text\n",
    "\n",
    "cleaned_df = trimmed_df.copy()\n",
    "cleaned_df[text] = trimmed_df[text].apply(clean_text)"
   ],
   "metadata": {
    "collapsed": false,
    "pycharm": {
     "name": "#%%\n"
    }
   }
  },
  {
   "cell_type": "markdown",
   "source": [
    "###### b. Tokenization"
   ],
   "metadata": {
    "collapsed": false,
    "pycharm": {
     "name": "#%% md\n"
    }
   }
  },
  {
   "cell_type": "code",
   "execution_count": 30,
   "outputs": [],
   "source": [
    "def tokenize(text):\n",
    "    tokenizer=ToktokTokenizer()\n",
    "    tokens=tokenizer.tokenize(text)\n",
    "    return tokens\n",
    "\n",
    "def remove_stopwords(text):\n",
    "    token_array = tokenize(text)\n",
    "    words = [w for w in token_array if not w in english_stopwords]\n",
    "    reassembled_string = reassemble_token_array(words)\n",
    "    return reassembled_string\n",
    "\n",
    "def reassemble_token_array(token_array):\n",
    "    space = ' '\n",
    "    reassembled_string = space.join(token_array)\n",
    "    return reassembled_string\n",
    "\n",
    "cleaned_df[text] = cleaned_df[text].apply(remove_stopwords)"
   ],
   "metadata": {
    "collapsed": false,
    "pycharm": {
     "name": "#%%\n"
    }
   }
  },
  {
   "cell_type": "markdown",
   "source": [
    "###### f. lemmatatize or stemming\n"
   ],
   "metadata": {
    "collapsed": false,
    "pycharm": {
     "name": "#%% md\n"
    }
   }
  },
  {
   "cell_type": "code",
   "execution_count": 31,
   "outputs": [],
   "source": [
    "# for some reason, this is the only way i could get stemming to work, I couldnt use the regular method that was given in the lecture b/c it kept throwing an error like it couldnt find it after loadin\n",
    "import en_core_web_sm\n",
    "nlp = en_core_web_sm.load()\n",
    "def lemmatize_text(text):\n",
    "    text = nlp(text)\n",
    "    text = ' '.join([word.lemma_ if word.lemma_ != '-PRON-' else word.text for word in text])\n",
    "    return text\n",
    "\n",
    "cleaned_df[text] = cleaned_df[text].apply(lemmatize_text)"
   ],
   "metadata": {
    "collapsed": false,
    "pycharm": {
     "name": "#%%\n"
    }
   }
  },
  {
   "cell_type": "markdown",
   "source": [
    "###### h. print first 5 rows of data after pre-processing"
   ],
   "metadata": {
    "collapsed": false,
    "pycharm": {
     "name": "#%% md\n"
    }
   }
  },
  {
   "cell_type": "code",
   "execution_count": 32,
   "outputs": [
    {
     "data": {
      "text/plain": "  airline_sentiment                                               text\n0           neutral                         virginamerica dhepburn say\n1          positive  virginamerica plus you have add commercial exp...\n2           neutral  virginamerica do not today must mean need take...\n3          negative  virginamerica really aggressive blast obnoxiou...\n4          negative                 virginamerica really big bad thing",
      "text/html": "<div>\n<style scoped>\n    .dataframe tbody tr th:only-of-type {\n        vertical-align: middle;\n    }\n\n    .dataframe tbody tr th {\n        vertical-align: top;\n    }\n\n    .dataframe thead th {\n        text-align: right;\n    }\n</style>\n<table border=\"1\" class=\"dataframe\">\n  <thead>\n    <tr style=\"text-align: right;\">\n      <th></th>\n      <th>airline_sentiment</th>\n      <th>text</th>\n    </tr>\n  </thead>\n  <tbody>\n    <tr>\n      <th>0</th>\n      <td>neutral</td>\n      <td>virginamerica dhepburn say</td>\n    </tr>\n    <tr>\n      <th>1</th>\n      <td>positive</td>\n      <td>virginamerica plus you have add commercial exp...</td>\n    </tr>\n    <tr>\n      <th>2</th>\n      <td>neutral</td>\n      <td>virginamerica do not today must mean need take...</td>\n    </tr>\n    <tr>\n      <th>3</th>\n      <td>negative</td>\n      <td>virginamerica really aggressive blast obnoxiou...</td>\n    </tr>\n    <tr>\n      <th>4</th>\n      <td>negative</td>\n      <td>virginamerica really big bad thing</td>\n    </tr>\n  </tbody>\n</table>\n</div>"
     },
     "execution_count": 32,
     "metadata": {},
     "output_type": "execute_result"
    }
   ],
   "source": [
    "stemmed_df = cleaned_df\n",
    "stemmed_df.head(5)"
   ],
   "metadata": {
    "collapsed": false,
    "pycharm": {
     "name": "#%%\n"
    }
   }
  },
  {
   "cell_type": "markdown",
   "source": [
    "##### 5."
   ],
   "metadata": {
    "collapsed": false,
    "pycharm": {
     "name": "#%% md\n"
    }
   }
  },
  {
   "cell_type": "markdown",
   "source": [
    "###### a. Use CountVectorizer"
   ],
   "metadata": {
    "collapsed": false,
    "pycharm": {
     "name": "#%% md\n"
    }
   }
  },
  {
   "cell_type": "code",
   "execution_count": 33,
   "outputs": [
    {
     "data": {
      "text/plain": "['virginamerica dhepburn say',\n 'virginamerica plus you have add commercial experience tacky',\n 'virginamerica do not today must mean need take another trip',\n 'virginamerica really aggressive blast obnoxious entertainment guest face little recourse',\n 'virginamerica really big bad thing',\n 'virginamerica seriously would pay flight seat do not play really bad thing fly va',\n 'virginamerica yes nearly every time fly vx ear worm will not go away',\n 'virginamerica really miss prime opportunity man without hats parody httpstcomwpggrezp',\n 'virginamerica well didntbut',\n 'virginamerica amazing arrived hour early you be good',\n 'virginamerica know suicide second lead cause death among teen',\n 'virginamerica pretty graphic much well minimal iconography',\n 'virginamerica great deal already think nd trip australia have not even go st trip yet p',\n 'virginamerica virginmedia i be fly fabulous seductive sky u take stress away travel httptcoahlxhhkiyn',\n 'virginamerica thanks',\n 'virginamerica sfopdx schedule still mia',\n 'virginamerica excited first cross country flight lax mco i have hear nothing great thing virgin america daystogo',\n 'virginamerica fly nyc sfo last week could not fully sit seat due two large gentleman either side help',\n 'fly virginamerica',\n 'virginamerica know would amazingly awesome bosfll please want fly',\n 'virginamerica first fare may three time carrier seat available select',\n 'virginamerica love graphic httptcoutgrrwaaa',\n 'virginamerica love hipster innovation feel good brand',\n 'virginamerica make bosla non stop permanently anytime soon',\n 'virginamerica guys mess seat reserved seat friend guy give seat away want free internet',\n 'virginamerica status match program apply three week call email response',\n 'virginamerica happen ur vegan food option least say ur site know will not able eat anything next hrs fail',\n 'virginamerica miss do not worry well together soon',\n 'virginamerica amazing can not get cold air vent vx noair worstflightever roast sfotobos',\n 'virginamerica lax ewr middle seat red eye noob maneuver sendambien andchexmix',\n 'virginamerica hi bke cool birthday trip can not add elevate cause enter middle name flight booking problem',\n 'virginamerica hours operation club sfo post online current',\n 'virginamerica help leave expensive headphone flight iad lax today seat one answer lf number lax',\n 'virginamerica await return phone call would prefer use online selfservice option',\n 'virginamerica great news america could start flight hawaii end year httptcorpzyfe via pacificbiznew',\n 'nice rt virginamerica vibe moodlight takeoff touchdown moodlitmonday sciencebehindtheexperience httptcoyounxtqp',\n 'virginamerica moodlighting way fly good experience ever cool calm moodlitmonday',\n 'virginamerica freddieawards do do good airline around hand',\n 'virginamerica book flight hawaii',\n 'virginamerica chat support work site httptcovhpgtdwpk',\n 'virginamerica view downtown los angeles hollywood sign beyond rain mountain httptcodwnfibtr',\n 'virginamerica hey first time flyer next week excite i be hard time get flight add elevate account help',\n 'virginamerica plz help win bid upgrade flight laxsea',\n 'virginamerica unused ticket move new city do not fly fly expire travelhelp',\n 'virginamerica flight leave dallas seattle time feb',\n 'virginamerica i be elevategold good reason rock',\n 'virginamerica dream httptcooadrfaoq httptcolwwdackhx',\n 'virginamerica wow blew mind',\n 'virginamerica ladygaga carrieunderwood last night tribute soundofmusic oscars ladygaga think carrieunderwood agree',\n 'virginamerica ladygaga carrieunderwood entertain',\n 'virginamerica flight way suppose take minute ago website still show time flight thank',\n 'virginamerica ladygaga carrieunderwood julie andrews way though ladygaga impressive carrieunderwood',\n 'virginamerica wish fly atlanta soon',\n 'virginamerica ladygaga carrieunderwood julie andrews hand',\n 'virginamerica flight leave dallas la february th',\n 'virginamerica hi i be excited lgadal deal i have try book since last week page never load thx',\n 'virginamerica know nee spotify stat guiltypleasure',\n 'virginamerica ladygaga carrieunderwood i be lady gaga amazing',\n 'virginamerica ladygaga carrieunderwood carrie',\n 'virginamerica new marketing song httpstcoflfulcbq let us know think',\n 'virginamerica ladygaga carrieunderwood julie andrews first lady gaga wowd last night carrie meh',\n 'virginamerica call week ago add flight elevatethey still have not show uphelp',\n 'virginamerica ladygaga carrieunderwood great go carrieunderwood',\n 'virginamerica ladygaga carrieunderwood sorry mary martin first',\n 'virginamerica ladygaga carrieunderwood love three really can not beat classic',\n 'virginamerica flight dal dca pm try check could status please',\n 'virginamerica heyyyy guyyyys trying get hour someone call please',\n 'virginamerica hi virgin i be hold minute early flight la nyc tonight early pm',\n 'virginamerica congrat win travelzoo award good deal airline us httptcokjiljaebv',\n 'virginamerica everything fine lose bag',\n 'virginamerica need change reservation virgin credit card nee modify phone waive change fee online',\n 'virginamerica email customer service team let know need track number',\n 'virginamerica hi book flight need add baggage',\n 'virginamerica airline awesome lax loft need step game dirty table floor httptcohyvrfhjht',\n 'virginamerica worry great ride new plane great crew airline like',\n 'virginamerica awesome fly y all sit morning way correct bill',\n 'virginamerica watch good student film country foot cmfatfeet httptcokekpdmgif',\n 'virginamerica first time fly different ratepolicy medium bag thank',\n 'virginamerica go customer service anyway speak human asap thank',\n 'virginamerica happen doom',\n 'virginamerica can not supp biz traveler like southwestair customer service like jetblue neverflyvirginforbusiness',\n 'virginamerica i have apply member inflight crew teamim interested flightattendant dreampath g',\n 'virginamerica you be best whenever begrudgingly use airline i be delay late flight',\n 'virginamerica interesting fly cancel flight next four flight plannedneverflyvirginforbusiness',\n 'virginamerica disappointing experience share every business traveler meet neverflyvirgin',\n 'virginamerica i be trouble add flight wife book elevate account help httptcopxhqoksr',\n 'virginamerica can not bring reservation online use flight booking problem code',\n 'virginamerica random q what s distribution elevate avatars bet kitty disproportionate share httptcoaptzpurop',\n 'virginamerica fly va life happen try change trip jperhi helpva home page let',\n 'virginamerica site back',\n 'virginamerica rnp yeah know',\n 'virginamerica hi get point elevate account recent flight add flight point account',\n 'virginamerica like tv interesting video disappoint cancel flightled flight flight go jfk saturday',\n 'virginamerica land lax hour late flight bag check business travel friendly nomorevirgin',\n 'virginamerica flight redirect',\n 'virginamerica website btw new website be not great user experience time another redesign',\n 'virginamerica can not check add bag website be not work i have try desktop mobile httptcoavyqdmpiy',\n 'virginamerica let scan passenger leave plane tell someone remove bag st class bin uncomfortable',\n 'virginamerica phone number can not find call flight reservation',\n 'virginamerica anyone anything today website useless one answer phone',\n 'virginamerica try add boy prince ressie sf thursday virginamerica lax httptcogsbjcgm',\n 'virginamerica must traveler miss flight late flight check bag miss morning appointment lose business sfolax',\n 'virginamerica check new music httptcomarcnocwzn',\n 'virginamerica how s direct flight fllsfo unexpected layover vegas fuel yet peep next buy vegas flight sneaky',\n 'virginamerica late flight bag check lose business miss flight apt three people flight exp',\n 'virginamerica amazing customer service raeann sf she s good customerservice virginamerica fly',\n 'virginamerica call service line hang awesome sarcasm',\n 'virginamerica site tripping i be try check i be get plain text version reluctant enter card info',\n 'virginamerica scheduled sfo dal flight today change th due weather look like flight still',\n 'virginamerica getaway deal may oneway lot cool city httptcotzzjhuibch cheapflights farecompare',\n 'virginamerica getaway deal may oneway lot cool city httptcorpdbpxwnd cheapflights farecompare',\n 'virginamerica getaway deal may oneway lot cool cities httptcobxiygt cheapflights farecompare',\n 'virginamerica getaway deal may oneway lot cool city httptcoqdljhsloi cheapflights farecompare',\n 'virginamerica great week',\n 'virginamerica come back phl already nee take us horrible cold pleasecomeback httptcoglxfwpnqh',\n 'virginamerica concerned fly plane need delay due tech stop',\n 'virginamerica best airline fly oneasy change reservationhelpful representative comfortable flying experience',\n 'virginamerica another rep kick butt naelah represent team beautifully thank',\n 'virginamerica beautiful frontend design right cool still book ticket bc backend secure',\n 'virginamerica love team run gate e las tonight wait delay flight keep thing entertaining',\n 'virginamerica use another browser brand reputation build tech response do not crossbrowser compatible website',\n 'virginamerica flight flight booking problem site totally folk problem',\n 'virginamerica like customer service min delay connect passenger seem long va',\n 'virginamerica thank outstanding nycjfk crew move mountain get home san francisco tonight',\n 'virginamerica absolute good team customer service ever every time fly i be delighted thank',\n 'virginamerica provide complimentary upgrade first class available seat',\n 'virginamerica need change flight that s schedule hour min wait time phone i be call intern help',\n 'virginamerica completely awesome experience last month bosla nonstop thank awesome flight depart time vabeatsjblue',\n 'virginamerica watch oscars jfksfo flight',\n 'virginamerica flight cancel flightled',\n 'virginamerica fail customer check process link tsa precheck',\n 'virginamerica fidifamilie us terrible airline give us hotel hotline number say sorry',\n 'virginamerica flight number sfo cabo san lucas arrive yet',\n 'virginamerica chrysichrysic assistance yesterday u cancel flightled flight give us hotel hotline shame',\n 'virginamerica another delay flight likingyoulessandless',\n 'virginamerica nee register service dog first class ticket sfo dull phone queue hour long pls advise',\n 'virginamerica rock make watch oscar flight redcarpet oscar oscars',\n 'virginamerica reallytallchris drop track httpstcozvpttrk',\n 'virginamerica always xoxo',\n 'virginamerica can not book seat flight buy even check create much anxiety frustrate',\n 'virginamerica you d think pay extra buck rt luggage may afford hire extra hand sfo lame',\n 'virginamerica best customer service rep world irmafromdallas take cake',\n 'virginamerica find us flt lax soon midnight monday would great customer service',\n 'virginamerica please provide status flight can not imagine time web indicate dude weather andor dallas',\n 'virginamerica amazing staff super helpful run waltdisneyworld princesshalf spoil comfort',\n 'virginamerica pay premium fly across country cancel flight flight offer check fee upgrade love sad face',\n 'virginamerica question possible book seat infant give option want seat',\n 'always together you be welcome rt virginamerica jessicajaymes you be welcome',\n 'virginamerica flight home dc sunset globe backtowinter back work refresh httptcovxvbctdlf',\n 'virginamerica do not understand nee dm give answer damage luggage policy',\n 'virginamerica mean do not policy destroy luggage',\n 'virginamerica special assistance travel alone w kids infant priority boarding',\n 'virginamerica thank check ticket purchase customer happy',\n 'virginamerica website ever come back online',\n 'virginamerica flight love field sfo definitely cancel flightle monday february',\n 'virginamerica flight lga dfw time',\n 'virginamerica drivers license expire little month fly friday morning use expire license',\n 'virginamerica problems flight booking problem web site keep give error contact phone phone minute wait',\n 'virginamerica reschedule cancel flightled flight online change button grey',\n 'virginamerica rang wait minute book ticket vendor fix site',\n 'virginamerica get flight tell todaychecked email tomorrow unacceptable',\n 'virginamerica flight lga cancel flighted stuck dallas call reschedule tell could get flight today',\n 'virginamerica do not pairing include red wine white offer redwineisbetter',\n 'virginamerica website',\n 'virginamerica site seem little wonked right may want look try two browser css httptcoqsqmmkf',\n 'virginamerica i be disappointed agent designate silver status check line dulles_airport close assist pasenger',\n 'virginamerica plans include austin dallas route topnews arab emirates httptcoaqzwecokk',\n 'virginamerica normal receive reply central baggage baggageissues smh',\n 'virginamerica logan airport wait checkin flight checkin desk open',\n 'virginamerica jump dallasaustin market dallas_new httptcoewwgigdx',\n 'virginamerica beat eps view take southwestair va luv investors business daily httptcoflwmgdahxu',\n 'virginamerica lister show monday',\n 'virginamerica begin dallasaustin flight april ketr httptcossuvwwkyhh',\n 'virginamerica congrats get business ewr sfolax fuck united fl sfoewr clincher',\n 'virginamerica apply week ago have not hear back i be fly week disappoint',\n 'virginamerica i d love know policy damage luggage',\n 'virginamerica thank follow',\n 'virginamerica many apology r bad airline do not even respond cudtomer',\n 'virginamerica shame va make people spend money strand city airlines landing jfk reimburse',\n 'virginamerica ttinac dm',\n 'virginamerica please flight sjc choice fly southwest vegas',\n 'virginamerica bad say take day via confirmation email inquire week claim week',\n 'virginamerica flight bos las tomorrow cancel flightled notification wait time hour rebook another airline',\n 'rt virginamerica you have meet match get status another airline upgrade restr httptcorhkamxvf httptcopyalebgkjt',\n 'virginamerica way fly elevate gold',\n 'virginamerica guys flights cmh',\n 'virginamerica lot apology throw customer seevery sad thank nothing bad airline ever',\n 'virginamerica flight stuff wrong nothing bad flight ever',\n 'virginamerica issue find miss item plane help find airport plane head next',\n 'virginamerica match americanairline status cool',\n 'virginamericayouve meet matchgot status another airline upgrade httptcohrdktqy asarco_es_ar',\n 'virginamerica trying book flight guy website will not let lose business',\n 'virginamerica suck',\n 'virginamerica thanks',\n 'virginamerica dmd issue persist',\n 'virginamerica never recd cancel flightlation notice leave w option fly ps drive la red eye mon w kid',\n 'virginamerica trying book flight site',\n 'virginamerica flights fly boston tomorrow need home cancel flightle flight do not anything',\n 'virginamerica stink flight cancel flight psp jfk notification ability rebook disappoint expect well',\n 'virginamerica love guy song dance high school dance revue',\n 'virginamerica website i be try check',\n 'virginamerica do thank quick response apparently fast sit hold',\n 'virginamerica nervous flight dc lax get cancel flightled tomorrow send dm help',\n 'virginamerica cool picture another virginamerica plane wing site httptcobagfdc',\n 'virginamerica keep great work',\n 'virginamerica goodness people love field amazing pressure texas beatstheothers crisis please fly ny',\n 'virginamerica thank great flight la boston pilots great job landing snow go back la seriously',\n 'virginamerica please get new york area monday afternoon',\n 'virginamerica thank much awesome support guy rock',\n 'virginamerica seats row do not recline mention website soreback',\n 'virginamerica flight delay hour la due mechanical problem handle like pro could tossed us free drink',\n 'virginamerica cancel flight flight today precipitation scare',\n 'virginamerica twitter team guy kill reschedule asap thank',\n 'virginamerica guy charge reschedule flight cancel flight refuse refund what s deal',\n 'virginamerica can not access website safari iphone seem work mac ipad need iphone add passbook',\n 'virginamerica ipad iphone click checkin link email receive hrs flight',\n 'virginamerica mobile site break show headerelevateusernumofpointsavailable number point will not let checkin',\n 'virginamerica really look forward flight let know reschedule diehardvirgin',\n 'virginamerica cancel flight flight vx one sec delay airport next cancel flightledgonna email call reschedule',\n 'virginamerica problem link email checkin thank',\n 'virginamerica change another airline get dc today united able land dc cost ugh',\n 'virginamerica look forward first flight today cancel flightle along subsequent one',\n 'virginamerica put great deal pdx las las pdx show love httptcoeniqgbuzj',\n 'virginamerica wish afford fly next friday go back home love everything airline',\n 'virginamerica go to deal dallas dc deal dc dallas sad',\n 'virginamerica bug report guy',\n 'virginamerica hold times call center bit much',\n 'virginamerica like httptcovpqemxuq',\n 'virginamerica site help',\n 'virginamerica good flight attendant ever httptcopxdelnql',\n 'awesome rt virginamerica watch nominate film foot meetthefleet oscars httptcodnstitrzwy',\n 'virginamerica thank much',\n 'virginamerica trying reset password email never arrive help',\n 'virginamerica airline base silicon valley disruption fcmostinnovative incubator fastcompanys httptcowulbcncr',\n 'virginamerica nicely do',\n 'virginamerica i be look forward watch oscar flight home tomorrow may even get something bubbly drink',\n 'virginamerica reason delay departure vx jfk afternoon',\n 'virginamerica todays flight palm spring ca jfk ny cancel flightled',\n 'virginamerica hahaha virginamerica guys amazing love guy',\n 'virginamerica sound like fun',\n 'virginamerica updates flight jfk lax',\n 'virginamerica spruce moose',\n 'virginamerica css site right please fix site unusable',\n 'virginamerica flight vegas boston today check online bag count do not register fix somehow',\n 'virginamerica classiq luv virgin america greetingz',\n 'virginamerica hi i be try checkin website work try different browser problem continue',\n 'virginamerica thank great customer service today help get travel sort',\n 'virginamerica thanks guys sweet route rockie airplanemodewason',\n 'virginamerica love music blast gate boston waiting flight sanfrancisco could get iced coffee',\n 'virginamerica passenger flt assault should not fly trust he s ban crew file report faanew',\n 'virginamerica current bug website show select departure city select destination city httptcosllyibevq',\n 'virginamerica luggage severely dentedmisse wheel come baggage claim san luggage agent miranda think be not help',\n 'virginamerica thank easy itinerary shift impend weather quick painless free',\n 'virginamerica you d love see girl inspire become pilot rt free woaw event march abq httptcorfxlvkgdh',\n 'virginamerica thank good time back vodkatonic entire flightsfo',\n 'virginamerica beat expectation share take santa cruz sentinel httptcoqmdqbaig',\n 'virginamerica plan start fly direct dal las',\n 'virginamerica big lovegratitudempower w httptcoagrkncpf werin oscars vipswagbags avalonhollywood httptcoybmbgsdhn',\n 'virginamerica you be great job add little luxuriesaesthetic improve air travel experience thank keep',\n 'virginamerica request window seat confirm window get stick middle seat good way treat silver member',\n 'virginamerica grand budapest hotel oscarscountdown',\n 'virginamerica miss newsvp next trip',\n 'virginamerica wtf pay direct flight purpose stop fuel exhaust frequent flier nothing inconvenience',\n 'virginamerica something wrong website safari iphone',\n 'virginamerica thanks gate check baggage full flight dfwlax give early boarding sweet',\n 'virginamerica already check page expire x',\n 'virginamerica boo refunding seat upgrade fee want buy first place',\n 'virginamerica shares rise q financial result usa today httptcolfspefey',\n 'virginamerica add pillow instead lieflat seat first class arm race httptcorgywjbbhm',\n 'virginamerica see',\n 'virginamerica way take advantage mayweatherpacquiao',\n 'virginamerica know i be fly virgin fight mayweatherpacquiao',\n 'virginamerica inflight team make experience amazing',\n 'virginamerica cut salt pepper shaker ever think guy can not get well httptcovckeulgj',\n 'virginamerica move seat notice well seat cabin select behind row select disappointed',\n 'virginamerica shares q result iol httptcoxzqegnef',\n 'virginamerica fav airline',\n 'virginamerica hot female pilot sweet dca sfo',\n 'guy go start fly paris virginamerica lizautter you be welcome',\n 'virginamerica policy flying surgery still wait answer tell doctor',\n 'virginamerica already contact central baggage send dm renttherunway charge dress lose suitcase help',\n 'virginamerica thank',\n 'virginamerica anything go website i have get lot error past minute',\n 'virginamerica think leave something plane yesterday callah',\n 'virginamerica need follow back order dm',\n 'virginamerica nee start fly kciairport',\n 'virginamerica tell check airline regulation first contact',\n 'virginamerica virginatlantic check flight sfo lax tell atlantic fly club gold get benefit',\n 'virginamerica husband order three drink via screen never come awesome',\n 'virginamerica soooo guy go leave seatbelt light flight barely call turbulence',\n 'virginamerica policy flying surgery',\n 'virginamerica post second consecutive fullyear net profit atwonline httptcotvbzbzvhg',\n 'virginamerica funny story website break miss javascript stylesheets checkin process dislike',\n 'virginamerica would love virgin like gopro',\n 'virginamerica result handily exceed forecast nytime httptcogonmrwemi',\n 'virginamerica applied position flylaxairport wonder guy receive application',\n 'virginamerica achieve second year profitability despite revenue pressure capa_aviation httptcozsuztnaijq',\n 'virginamerica give positive outlook see increase competition reuters httptcojeuodeyj',\n 'virginamerica i be try check ct flight tmm desktop website work sort cache bug sos',\n 'virginamerica weather delay next week jfk bos dca',\n 'virginamerica madbee check website go airport',\n 'virginamerica guy know checkin link email broken httptconpxbobmr',\n 'virginamerica pilot say expect choppy landing nyc due gusty wind wa temperature degree wthe windchill',\n 'virginamerica love can not wait monday return flight mostly watch inflight safety video sorrynotsorry',\n 'virginamerica lose luggage day ago flight vx lax iad i be call every day responseplease give back stuff',\n 'virginamerica flight booking problem section website seem broken chrome may wanna look',\n 'virginamerica hi want see new route plan year newark love fly guy hope',\n 'virginamerica mean probably inappropriate board',\n 'virginamerica happy spend day together let',\n 'virginamerica saving sanity right httptcoeltboljul',\n 'virginamerica miss flight standby work',\n 'virginamerica understanding help thx comps',\n 'virginamerica bring way across country today see httptcotkauygcpms',\n 'virginamerica thank absolutely',\n 'virginamerica look like broken link asset httpstcooardjjgrrd',\n 'virginamerica ready let say together noooo turbulence today',\n 'virginamerica manage itinerary section website seem broken httpstcopujvcelng',\n 'virginamerica can not check site look like every time load httptcokacyawdbw',\n 'virginamerica u help freyabevan_fund need urgent treatment iny old battling cancer could u help flight freyasfund',\n 'virginamerica may start service hawaii sanfrancisco year httptcoyponyprzl biztravel',\n 'virginamerica carriers less half price round trip fare stun httptcoukdjjijrow',\n 'virginamerica wtf happen pdx late flight march one way sfo',\n 'virginamerica add dtw i be sell',\n 'virginamerica free drink flight back free promo',\n 'virginamerica ssal thank',\n 'virginamerica momma make',\n 'virginamerica please contact portfolio leave flight vx jfk sfo tonite seat need return call',\n 'virginamerica help flight jkf tonight seat c leave portfolio need back',\n 'virginamerica shrinerack seattle bind wifey get duffle vday she s keep holla httptcojloiblnair',\n 'virginamerica luggage go i have file paperwork promise callemail still resolution response central luggage',\n 'virginamerica debbie baldwin give rockstar performance safety demo evening vx lassfo bestcrew sherock',\n 'virginamerica thanks',\n 'virginamerica thank take care suuperg flight rockstar travel',\n 'virginamerica thank lovely soft view travel san sfo httptcocnctlgef',\n 'virginamerica request mileage challenge status several week ago online have not hear back get help',\n 'virginamerica try book ticket nyc face super fun broken styling do not worry ill keep try',\n 'virginamerica many thank follow ourprincess freyasfund usa bandie look help httptcoujfszikd',\n 'virginamerica nice lofty view flylaxairport silverstatus httptcoftpdawbd',\n 'virginamerica apply status match feb get confirmation email day still news though guy drop ball late flightly',\n 'virginamerica new go airline',\n 'virginamerica virginatlantic gma americanair help ourprincess nee help usa httptcoaztdaer',\n 'virginamerica adore look forward flight austin two week',\n 'virginamerica glad mentioned take first virgin flight year back transformative experience',\n 'virginamerica flight booking problem flight uphold status match taxis ticket count earn status point statusmatch virginamerica',\n 'virginamerica trying checkinbut look like site',\n 'virginamerica spending birthday night daldca get home',\n 'virginamerica send couple message email provide avail try next year cheer',\n 'virginamerica first time fly virgin go sanfrancisco thank smooth ride easily new fav airline',\n 'virginamerica seriously though direct flight sfofll may',\n 'virginamerica fine already do purchase try go way go back',\n 'virginamerica really experience hope ws force check small carry w nothing empty cabin space board',\n 'virginamerica wjere luggage slow lax',\n 'virginamerica jump dallas austin market httptcoszrpioa',\n 'virginamerica speak representative offer solution loyal customer fly virginatlantic well',\n 'virginamerica deeply disappoint birthday promo apply trip book mere day receive email',\n 'virginamerica happen direct flight sfofll look may see connect help dontdothistome',\n 'virginamerica help leave blazer kooples jacket bag rd row second seat right gate lax flight sfo',\n 'virginamerica partners visa checkout mobile payment method help boost mobile conversion rate etailw payment visa',\n 'virginamerica promote product problem southwest recommend noneother well httptcotfanxbhcf',\n 'virginamerica love guy pls get direct route las aus',\n 'virginamerica would like help flight please',\n 'bruh virginamerica giannilee turn vxsafetydance',\n 'virginamerica course work virginatlantic i be obsess entire virgin family',\n 'virginamerica ok first time fly tonight',\n 'virginamerica dig swanky pink mood lighting flight nyc sfo need cabaret singer think',\n 'virginamerica do need receipt asap could please help',\n 'virginamerica emboss badges patch superior one currently use httptcofqxelbon',\n 'virginamerica vx jfk la dirty plane standard',\n 'virginamerica flight vx head la jfk dirtiest va plane ever sad great airline',\n 'virginamerica get square away someone pick soon tweet tweet soon',\n 'virginamerica avis rental continue button do not work website book car try time phone suck',\n 'virginamerica delay',\n 'virginamerica currently minute hold cust service need anything add lap child reservation',\n 'virginamerica add pillow instead lieflat seat first class arm race httptcosfjduahxz skift',\n 'virginamerica karinslee course fun celebrate thank happy chinese new year',\n 'virginamerica flight booking problem last second flight next week sfo san chance want gift promo code since love guy',\n 'virginamerica comenity bank joke please change nothing constant problem bank',\n 'virginamerica dm u also add',\n 'virginamerica grandma ellas th would bday greet flight crew stewardess eastern airlines',\n 'virginamerica buy tix atx dallas route thank add love yr airline yr website good transactional site ever',\n 'virginamerica anytime sugafly',\n 'virginamerica give credit late flight flight yesterday great service that s wow moment unexpected gesture',\n 'virginamerica need receipt flight change send one',\n 'virginamerica submit status match request back still have not hear i be fly monday look accelerate',\n 'virginamerica safety video httptcocqmmnuem love first cross country flight livewelltravele sytycd',\n 'virginamerica do not look fat look yummy',\n 'virginamerica ceo say southwest jetblue stray low cost model httptcosctomh',\n 'virginamerica brilliant brisk boston cue vx httptcormznivgmg',\n 'virginamerica atlantic ploughs lone furrow middleeast httptcofvudmhpf thenationaluae',\n 'virginamerica atlantic ploughs lone furrow middleeast httptcodcoboknee thenationaluae',\n 'virginamerica atlantic ploughs lone furrow middleeast httptcovwpttlh thenationaluae',\n 'virginamerica omg omg nonstop dallas austin virgin',\n 'virginamerica plane really pretty think u know',\n 'virginamerica fly hawaii',\n 'virginamerica i be pull hair try book flight u site do not work iphone ipaddont computer help',\n 'virginamerica thank',\n 'virginamerica get help support ticket day incident thank',\n 'virginamerica good home texas moodlighte httptconbvztyzi',\n 'virginamerica can not even open laptop seat c pay premium let',\n 'virginamerica seat c can not even open laptop pay extra seat',\n 'virginamerica guy start flight end month guess i be still road tripping feb',\n 'virginamerica thank need way make austin trip dca you have come',\n 'virginamerica announce new route austin wfares way httptcogapbamuc',\n 'virginamerica really sprint think guy kewl _',\n 'virginamerica cool never ur plane',\n 'virginamerica dollar laxlas fare',\n 'virginamerica great well deserved',\n 'virginamerica fyi infovirginamericacom email address say contact password reset email do not exist email bounce',\n 'virginamerica status match week go newsflt next week hope flt count towards requirement cust svc help',\n 'virginamerica website suck donkey dick think know good',\n 'virginamerica still develop app favorite airline',\n 'virginamerica crap channel pay watch uk tv',\n 'virginamerica get set thank',\n 'virginamerica channel year',\n 'virginamerica thing see passbook virgin mobile mexico integrate',\n 'virginamerica giants virgin america match make heaven',\n 'virginamerica thank goodness also see friday nwksf boom',\n 'virginamerica come do not iphone app still use make waste paper',\n 'virginamerica back seat entertainment system accept credit card apostrophe surname apostrophefail',\n 'virginamerica vx use lga slot instead today add aus make less likely',\n 'virginamerica help step tinder game tindertip tinderchamp httptcojbmvvhaa',\n 'virginamerica luv ur people product thing u charge herbal tea black tea i be caffeine drinker',\n 'virginamerica thank see y all soon i be excited see expansion destination spread wing',\n 'virginamerica announce new nonstop connect austinairport dallaslovefield intro httptcoqxnoaqtyn httptcojkqmdfqgf',\n 'virginamerica add austindallas love field route httptcoxwjolflh httptcoyaormfkac',\n 'virginamerica sad learn long fly sfo phl hope return',\n 'virginamerica tweet cancel flightchng fee flight rebook one affiliate afiliate',\n 'virginamerica incredible customer service i have ever experience refreshing',\n 'virginamerica see virginamerica come philadelphia phl',\n 'virginamerica dream really open route dallas austin mean houston may next',\n 'virginamerica omg finally',\n 'virginamerica start xweekly flights dallas dallaslovefield austin apr avgeek',\n 'virginamerica nice see expand texas do not forget us sandiego would love see flight',\n 'virginamerica kinda suck earphone jack do not work flight may want look future passenger',\n 'virginamerica poor experience first computer problem seat malfunction stuck miss meeting san diego',\n 'virginamerica battle southwestair dallaslovefieldaustinairport route httptcorlzebkx via usatoday',\n 'virginamerica thankyou dalaus route make day',\n 'virginamerica awesome deals dalaus way httpstcoxcvqxykg',\n 'virginamerica miss nerdbird san jose',\n 'virginamerica love take southwestair backyard consumer win biz compete',\n 'virginamerica fly love austin excellent news',\n 'virginamerica make every vx plane nerdbird austin one get nerd love',\n 'virginamerica please add frequency pdx portland',\n 'virginamerica congrats vx new route',\n 'virginamerica try offer charge additional k new ticket strand thurs st time last time',\n 'virginamerica americanair u help flight get old battling cancer need treatment freyabevan_fund',\n 'virginamerica never bad experience one take cake extortion carry item well',\n 'virginamerica spend hour worrying item carryon would brokenstolen since could not carry plane lock bag',\n 'virginamerica group e tell room bin get plane room least bag row',\n 'virginamerica thank make flight lax jfk nightmare forcing check carry bag gate',\n 'virginamerica lot flight book site work i have phone waiting minute',\n 'virginamerica flight artisanal cheese wine pair',\n 'virginamerica virgin america fly direct seattle nyc boston',\n 'virginamerica that s classy',\n 'virginamerica i be sure lot jfklhr flight go lot fast mph strong tailwind',\n 'virginamerica tminus minute elevate silver upgrade window open freeneversuck',\n 'virginamerica save tomorrow',\n 'virginamerica take year fly home dallas get shit together',\n 'virginamerica jezziegoldz club virgin bump new york httptcohaqcgdgc',\n 'virginamerica jezziegoldz would rough trip luckily virginamerica flight weather',\n 'virginamerica thestarter',\n 'virginamerica please come minneapolis st paul',\n 'virginamerica yes fyi bff',\n 'virginamerica another perfect flight come plane sun visor stay carrier make raise',\n 'nice rt virginamerica man steel may fast wifi say sciencebehindtheexperience httptcofgrbpazsix',\n 'virginamerica love dance little richard cool beans',\n 'virginamerica do not use passbook still love though ill use email future',\n 'virginamerica thank free birthday point y all right',\n 'virginamerica application ios look see virgin mexico',\n 'virginamerica man steel fly city thoughand frequency',\n 'virginamerica thank much share add site httptcotsvibtvth',\n 'virginamerica good point',\n 'virginamerica hear virgin mobile hotspot',\n 'virginamerica get cheese plate flight',\n 'virginamerica flights',\n 'virginamerica dad segway good part whole infographic',\n 'virginamerica plan short haul airline europe would defiantly fly guy',\n 'virginamerica wifi well seating',\n 'virginamerica come abc one network channel do not',\n 'virginamerica start flight scold use overhead bin offer person seat next',\n 'virginamerica great return call day could not ask myvxexperience',\n 'virginamerica airlines be not cancel flight flight bos help customer get home virgin say good luck',\n 'virginamerica dear virgin customer you be strand sf day cost well least accommodate',\n 'virginamerica use next airline commercial lol httptcopxexilsjbs',\n 'virginamerica group virgin other bos weather expose actual cus serv model never flight booking problem virgin',\n 'virginamerica one traveler affect boston storm i be shock virgin complete apathy toward customer',\n 'virginamerica umm reason someone different contact contact get definitive answer',\n 'virginamerica try make change advance hour priortrie online early want change fee',\n 'virginamerica loyal i be drive nyc pa fly virgin since cut philly flight',\n 'virginamerica way change main cabin main cabin select flight without pay change fee penalty',\n 'virginamerica guy perfect always wervirgin',\n 'virginamerica thank y all good customer service leave industry',\n 'virginamerica give silver status month',\n 'virginamerica really wish you d fly fargo fargoairport fare amazing',\n 'virginamerica mood lighting point recline seat kickin foot',\n 'virginamerica flight schedule pm departure still say time plane gate update long delay',\n 'virginamerica group get cancel flightlation fee waive can not ticket book rep help either',\n 'virginamerica sign bonus enroll elevate',\n 'virginamerica get pm newark home la folk ewr incredible letsgohome',\n 'virginamerica morning question regard elevate point flight dm',\n 'virginamerica still wait see starryeyes_dev _',\n 'virginamerica wonder guy recieve dm able potentially respond asap',\n 'virginamerica fly lax sfo look awesome movie lineup actually wish long haul',\n 'virginamerica book town fares way restr httptcoxrdtovnl httptcoybyackc jenniferdawnpro',\n 'united thanks',\n 'united thank take care mr happy customer',\n 'united still refund word via dm please resolve issue cancel flightled flight useless assistant trip',\n 'united delay due lack crew delay there s long line deice still need improve service united',\n 'united thanks fill how s luck common',\n 'united eriord express connection hugely popular could eriewr hop',\n 'united even international flight glasgow us orlando newark mins',\n 'united think board flight au early think',\n 'united understand tough way get airport wo serious risk accident steep price',\n 'united gate agent hook alternate flight way prevent constant issue would rock',\n 'united fly glamco week long airport departure international domestic ta',\n 'united thanks',\n 'united thanks ticket',\n 'united law policy',\n 'united bad nonrefundable first class ticket oh select globalfc system auto select economy wupgrade',\n 'united cheertymedad buy tix day flight can not transfer tix flawed security logic flawed customer service',\n 'united start claim week unrealistic really suppose go long car seat childridiculous',\n 'united follow please airline beautifull',\n 'united do not i be sure united info system',\n 'united car seat lose united reimburse new one pair shoe necessity child',\n 'united submit response link send',\n 'united yes david allan send email number kmmvlkm case',\n 'united highbuddyyy totally suck cousin work phl say united',\n 'united want let know wonderful rosetta gate agent working flight dan ase let know wasappreciated',\n 'united yes paper voucher get january th',\n 'united begin feb call united say would send another voucher mail never get anything tiredofwaite',\n 'united internet great thing email executive company maybe respond timely manner',\n 'united need use chase united club pass yr old son come pass',\n 'united suppose number',\n 'united that s weak see ya hey virginamerica',\n 'united fly back w company since united do not early flight',\n 'united lose voucher give miami aeroport jan use',\n 'united trying book award september need flight aegeanairline show even w many award seat availab',\n 'united sure drive total hour get bag i d like explain debacle one want talk',\n 'united cheertymedad gee that s like almost care ppl think i be int trust adult w daughter',\n 'united see tell repeatedly pilot late flight keep get late flightr board defibrillator issue',\n 'united preferred security line anymore tsa precheck do not pull silverairways partner flight platinum spoil',\n 'united newarkliberty airport nee indicate different gate terminal ac flyingainteasy',\n 'united yes please newly marry try update last name preexist international flight seem easy',\n 'united united refuse reissue lose voucher plane do not take due mechanic badcustomerservice',\n 'united also run instruct shatter computer httptcooaflfrwxb',\n 'united yes we have agent last minute one agent rude thankfully ladan nice',\n 'united that s right overnight miami',\n 'united clients hr layover iah day claim recheck luggage take care',\n 'united try find loaner seat new use use car seat illegal accord safety regulation',\n 'united dme detail',\n 'united iah charlotte baggage claim rep latrice h customerservice non existent ignore customer inappropriately touch customer',\n 'united kewl also let know overhead bin row inop love good abbreve',\n 'united thanks helpgot need issue _ austrian guess sit awhile long',\n 'united uctraveladvisor would love respond website see really long form business new seat bad',\n 'united refund flight voucher another flight different airline expense today hour drive inconvenient',\n 'united receive call back daysit infant car seat suppose go anywhere child',\n 'united thanks concern contact customer care upon return australia',\n 'united well sit ground time wait gateagain tiredofthis',\n 'united airport snow removal method keep good work folk cessna become httptcovtmusjvu',\n 'united need guy book plane concern ill travel someone else move forward',\n 'united measly ecertificate appreciate loyal customer wait hrs tarmac ua unacceptable',\n 'united email addressusername signon available',\n 'united thank able claim interim expense cost stuff',\n 'united rude rude',\n 'united can not get board pass austrian airline codeshare flight rebook incls hour layover stick outside sec',\n 'united receive flight unite truly break guitars unitedbreaksguitar wantmymoneyback',\n 'united fly telaviv pay third suitcase do not even make plane besides impolite service',\n 'united bag still colo spring disabled search unfamiliar airport look bag good outcome',\n 'united shame there s flex ticket transfer rule even call neurosurgery icu be not enough',\n 'united denver say do not handle baggage make colo spring give number call help either',\n 'united guy need serious training customer service many well option put way guy handle ur mistake',\n 'united ord dca',\n 'united find problem avoid like plague tell can not find supervisor',\n 'united zccu cancel flight flight h advance nee connect flight reschedule link be not help help gf wait month see',\n 'united fly',\n 'united addition first flight delay hour i be arrive destination hrs late flight',\n 'united cancel flight flight do not rebook us add flight drive denver kcthanks',\n 'united announcement pre boarding address mobility disability require travel lot stuff preboard',\n 'united fly united last month experience awesome',\n 'united travel book thru united group dept okc ticket agent less willing help connection lax',\n 'united v upset disability service tell one employee carry medical equipment rude',\n 'united thnx quick reply do not think assist intl grp put considerable inconvenience today',\n 'united will not transfer flight ticket accompany yr old who s active military mom emergency brain surgery wow',\n 'united getmeontop week late flightr still receive mile mileageplus gift card starbucks card hand',\n 'united k i be always hope improvement',\n 'united yet complain guy check luggage throwing bag around unfortunate coincidence hope',\n 'united okc ticket agent roger mclarrensp less helpful intl group travel problem can not find supervisor help',\n 'united mobile apps need construction ground os category expensive get right',\n 'united another fail united ticket agent okc less helpful could care less problem american come',\n 'united also work wc coach good thing bird land ahead schedule use wc stat',\n 'united os be not control rather verizonwireless app new',\n 'united send email customer care telling may break sincerely hope help',\n 'united silly i be fly delta today united club staff attendant surly unhelpful always seem bothered pesky folk',\n 'united phone number can not find call flight reservation',\n 'united well can not fix miss buddy th bday negligence attempt make',\n 'united believe help customer service could not like say want number someone fix',\n 'united help baggage service desk say bc tsa screening fll bag make bag ewr',\n 'united mobile boarding pass disappear phone stand line board second time week hmm',\n 'united record rozana newark lovely helpful choosekind',\n 'united last night ordlga',\n 'united thx update',\n 'united thank',\n 'united dm nuts',\n 'united explain eager flight attendant try ask vision ccicanine guide dog',\n 'united what s point ask details servicedog book flight crew do not read continued',\n 'united try one available bogota everyone rude houston stick hour guy',\n 'united worstunitedflightsever ua las iad mechanical problem take land fix delay wtfodd',\n 'united despite bag make newark good informative email tracking update help',\n 'united what s go ua outbound flight last thurs delay hrs long delay worstunitedflightsever',\n 'united worstunitedflightsever ua iad las mechanical problem switch aircraft delay hour',\n 'united crash try check',\n 'united wow deal plus seat available easy change make customer happy',\n 'united thanks info already know',\n 'united airline trouble winter get good customer service contact httptcoaqjnhwnac negotiate resolution',\n 'united logan boarding gong show due lax carry enforcement bin full coat room bag u need well system',\n 'united thank',\n 'united blackmail pay extra return ticket nullified san francisco airport terrible service rep scam',\n 'united email address reach long dm',\n 'united disappoint u do not honor credit give ur mistake take business elsewhere',\n 'united ua still wait suppose depart',\n 'united credit last trip never come mail',\n 'united ok month wait hear airline give quite bit day request terrible service',\n 'united process ever end still wait reply since month pathetic customerservice',\n 'united what s go website i be flight booking problem three ticket today i have boot system umpteen time',\n 'united get account number website say email unavailable',\n 'united need book two one way order fly unaccompanied minor',\n 'united receive bag last night still miss one',\n 'united simonroesner you will need upgrade seat even economy plus like sit concrete bench',\n 'united pls help baby hannah get life saving surgery requiresshe need helppls donatert httptcokqnrrpa',\n 'united bet will not honour like mine ey',\n 'united nd flight also delay pilot board sit schedule',\n 'united guess that s much ask huh',\n 'united hard stay upset someone least try show remorse',\n 'united way simple apology go long way even hollow one obvious do not care wellbeing',\n 'united be not one time thing either shocking pattern repeat neglect disrespect',\n 'united fingers cross intact disappointed experience actually say enjoy use',\n 'united incredibly easy fix would rather stay comfort zone get force mine',\n 'united july zero excuse outofdate system cause problem like',\n 'united everyone around us sit friend family member book ticket october december buy',\n 'united sure talk go nonstop flight sna sfo sfo ewr',\n 'united i be move americanair united talk service',\n 'united please good weekend',\n 'united ask legitimate question systemwide vs localized problem get back unrelate flightd copypaste well',\n 'united time call need ski go airport get faith united',\n 'united see guy amazing one company continually make mistake yet fail hold accountable error',\n 'united tourist wonder super tides tide century french uk coast httptcogxdqortss',\n 'united yeah sorry there s always problem united international reputation problem',\n 'united y all probably work',\n 'united maybe bbbne_sd_ks_ia would care hear go whoever listen issue cause',\n 'united wonder share fb insta would produce number character really limit story tell',\n 'united you be tell number call leave airport negligent pilot staff',\n 'united could email resent do not appear arrive',\n 'united yes please try get pop newark',\n 'united follow order dmcome',\n 'united united coupon make broken entertainment system hour flight seriously ridiculousness learncustomerservice',\n 'united do not drop bag overnight i be leave week suppose hold bag',\n 'united dm detail still response book today',\n 'united know probably way get cheap airfare ticket flight leave hour',\n 'united someone please explain process happen property find plane passenger leave heathrow',\n 'united able dm confirmation number',\n 'united i have send message let know get i be twitterliterate also really go stuck hrs',\n 'united unhappy response complaint email nd feb ref awful customer service',\n 'united dm work',\n 'united private jet would cool work ill try',\n 'united give option use united travelbank recent flight booking problem help use recouping fund thank',\n 'united common keep paper work ready do not delay flightsand meeting choosechicago',\n 'united yulord',\n 'united yep that s correct get email flight cancel flightle do not matter flight atl delay thx',\n 'united k problem get fll iah send dm make connection please let know',\n 'united do do',\n 'united thanks send',\n 'united i be ground montreal ua miss connection ua st louis helpdo private jet',\n 'united i be frustrate nervous',\n 'united ones make difficult',\n 'united i be child i be someone issue fly prepare ahead time reduce distress cause plane',\n 'united get cancel flightled hour take',\n 'united always happen guy make travel incredibly stressful uncomfortable good business',\n 'united someone severe anxiety one person help be not next',\n 'united i be seek go client bc u can not get need refund fill form confident work past indication',\n 'thnx response united bot seem improvement could easily attain st class service really worth',\n 'united unrivalled access california flight us uk airport nonstop onestop connections yearround',\n 'united book award tix thaiairways i be see conf united flight booking problem get get thai',\n 'united luckily make flight time disappoint lack communication',\n 'united check see flight atlord get cancel flighted',\n 'united service far horrid want end trip high note guess that s option',\n 'united book flight home month ago request seat together fiance get middle seat unacceptable',\n 'united guys horrible',\n 'united thnx info',\n 'united pay wifi international business ticket pennypincher',\n 'united ok top thing you have lose luggage could get bad unitedairline',\n 'united kudos cancel flightle flight dfw morning united usually first panic',\n 'united luggage broken youcouldntmakethi brokenwheel',\n 'united flight dfw ord currently ontime see advisory dfw may affected weather',\n 'united maybe one day you will one quote httptcomjkpgvxmpc',\n 'united flight delayedno one remember turn heat flight leave ordseriously',\n 'united another awesome new plane flight extremely nice captain steve connolly',\n 'united speak real person get resolve politely efficiently',\n 'united have not file refund claim tell charge dm dispute bank hence would like',\n 'united bags make flight iad second day without clothe pretty inconvenient pretty curious unitedairline',\n 'united every united flight saipan guam adventure never know capeairs old plane operational',\n 'united hence i have ask customer service phone number speak real person get sort',\n 'united bags leave washington yet would convenient seeing leave day ago unitedairline lostluggage',\n 'united i be fly st class one leg chicago long flight china still able use lounge chicago',\n 'united accord dms i be owe refund please may provide contact number go bank file claim',\n 'united hour ago need work bag make hotel time nee go elsewhere',\n 'united okay thank',\n 'united i have file claim way call update another way',\n 'united pls properly train agent request speak k customer service transfer dead end even open hr',\n 'united thanks remember load bag onto connect flight oh wait forget iceland fun clothe',\n 'united thank cheese platter abundance entertainment option time fly',\n 'united customer service atrocious disrupt travel plan lose luggage impossible talk human',\n 'united terminal mia food open esp flight two hour early like recommend can not eat',\n 'united ua flight i be currently stick portland miss ride hour delay getmartyhome',\n 'united respond various request contact number anyone know uk customer service number unitedairline',\n 'united look get bag lusaka',\n 'united could update suitcase please online phone tracking tell nothing tell i d back yesterday',\n 'united thank try two day set',\n 'united last thing u guy should not charge drink transatlantic flight',\n 'united lhr arrival lounge fail wait mins shower leave find hotel u know many passenger u carry planning',\n 'united luck finalizing reservation dmd information please let know else need want confirm asap thx',\n 'united complete form doubt use ua do not care day vacation sure ua will not feel responsibility',\n 'united definitely compliment really think bag lose send another airport end happy customer',\n 'united thanx much follow emailed ticket voucher unitedairline care',\n 'united definitely trip remember ewrsti second season first seat pay loyal',\n 'united nope tell us time go home sleep airport even though assure us would get room',\n 'united keep update let know bag make flight jburg',\n 'united back expensive holiday work year pay ruin want compensation original case back',\n 'united thanks united understand would actually like bag back do also want money',\n 'united frankly bad customer service ever problem happen deal define company never unite',\n 'united still valid flight seem strange delay late flight inbound crew hour plane already',\n 'united thanks lack help can response k desk',\n 'united bad ua another unforeseeable operational issue return flight',\n 'united would like know what s go current flight land',\n 'united pay luggage deliver arrive wait additional day delivery',\n 'united hotel people feel like hold hostage someone board pass can not leave fail',\n 'united one great airline',\n 'united outbound bags lbs bag return home bag lbs logic writing machine human help require',\n 'lindaswc united do not like hear poor experience please share detail wour customer care team httptcohiscndmgz',\n 'united cancel flightn leave us fend flt come late flight get runaround hrs employee blame previous',\n 'united local united number malaysia local united airlines kuala lumpur kul',\n 'united okay asem find luggage',\n 'united agent meet us gate say issue wdelay ua would taken online',\n 'united send urgent message via eserviceunitedcom bgkwm narayanan please respond asap also local united tel kul',\n 'united thanks guy get anytime soon',\n 'united lady one phone say tel aviv tel aviv united say newark one know nothing',\n 'united melaniespre well see ^kn run plane running thank help',\n 'united yes still answer many luggage day unacceptable',\n 'united go nothing like always',\n 'united send feedback thank',\n 'united plus food taxi',\n 'united offer us room people fail',\n 'united people get pretty tired action solve problem plus miss day vacation skiing',\n 'united bright side would keep promise make hope you be good night thank',\n 'united yes',\n 'united take back comment team work hard help us far solution hotel food anything fail',\n 'united arrive two hour late flight clt sitting tarmac move plane gate unhappy customer',\n 'united airlines absolute bad idea neveragain unitedairline',\n 'united thank may want fix line customer care team currently respond inquiry within business day',\n 'united fly united aus austin bergstrom cancun intl good flight ever big small',\n 'united frustrating frequent flyer loyal since continental upgrade equal pay time top purchase ticket',\n 'united deep vein thrombosis',\n 'united bad can not figure pack plane screw connectns claims hotl room san fran strand pax way go',\n 'united passengers hour delay flight leave hotel end night hou airport wtf httptcozfqmpgxvs',\n 'hey united flight iah pos leave late flight one back iah early rather get pos early',\n 'united lose bag process break agent promise they d call hold bag find they be wake w delivery fail',\n 'united people counter helpful see nobody flight austin still sit',\n 'united unfortunately still tarmac flyohare definitely miss ride flypdx gonnabealongnight',\n 'united darquenloveli regret hear please let us know need assistance ^kn finally able secure seat thx',\n 'united time check open flight ua manchester newark today',\n 'united good know open closed door premier passenger safety briefing delay flight annoy',\n 'united dm send',\n 'united yea get phoenix already delay day people bullshit',\n 'united consolation staff stellar hour delay encounter every one flight',\n 'united flight ua gate b tell ray somehow make flight iah do not wait one',\n 'united that s unfortunate tumitravel xmas gift look like razor rip right front pocket picture',\n 'united thanks ask',\n 'united lose bag cancel flightled flight delhi call centers poor united staff spread thin stress name',\n 'united yes do not make mistake less absurd do not change fact i be inconveniently miss luggage tonight',\n 'united i be constantly challenge upgrade charge order prevent dvt pay addtl httptcoxcjqrb',\n 'united ord wait min crew member leave gate item come flight attendant sarcastically say good luck walk away',\n 'united follow back please ill happily dm link i d rather share travel plan publicly',\n 'united',\n 'united favorite airline',\n 'united seriously fail make stranger share room',\n 'united luke_mcintosh nah would not',\n 'united need asap make today flight',\n 'united agent split reservation can not cancel flight refund credit wks',\n 'united vacations go ruin w day rain change fee us nearly cost original flight help',\n 'united send message let know asap',\n 'united would make share room',\n 'united try call w min phn wait mean we d miss option anyway',\n 'united ask guy flight bwi wait us get delay flight san diego pretty please',\n 'united still wait find rep work hard upset wait tomorrow pm get mammoth',\n 'united early flt think call appropriate yes review nada avail next day expect full refund',\n 'united understand thank',\n 'united ask call get fix tweet bs question stall make thing bad phone number please',\n 'united yo yo yo stuck tarmac hour flyohare go miss ride flypdx help please helpimstuck united',\n 'united highly unprofessional overbook flight seat feel rearrange schedule mismanagement',\n 'united well consider every agent claim unable help everything else waste time hear call corp',\n 'united man can not wait book ticket thank jp you be life sabe',\n 'united ice totally understand large number us face hour time overnight cancel flightation seem like',\n 'united flt cancel flightle get email happen courtesy phn call book diff airline city',\n 'united tag number let find bag',\n 'united well train support staff appropriate decorum consider revisit terrible provide death certificate policy',\n 'united well bar set low guy really good apology game change u guy learn',\n 'united post disappointment i be frequent united flyer simple bad apple do not spoil bunch',\n 'united guy continue impress houston httptcocihqnllcm',\n 'united way make phone call nee handle via twitteremailweb thank',\n 'united please help ethiopia adopt two year old child exist confirmation need add child reservation',\n 'united questionare onboad volt outlet plane',\n 'united website deserve new design html ftw',\n 'united thanks eff holiday miss full day ski due baggage team incompetence flyyow',\n 'united twitter be not let dm',\n 'united hope',\n 'united agent help person front finish walk away guy behind shocked',\n 'united connection ord exact plane check carryon apparently take leave chicago pretty ridiculous',\n 'united encourage ill cpap tonight',\n 'united yes file claim soon carousel stop without bag get email find sche delivery',\n 'united idea monitor mileage member travel pattern enough know change jobslose statusand make transition easy',\n 'united delay dencle manually enter baggage tag really bad cust service day ker friendlyskie',\n 'united tell us flight delay tell us time min spare do not say delay unless you be sure',\n 'united yes lusaka zambia guess bag never make plane iad',\n 'united flight voucher',\n 'united late flight denver late flight newarklet even get disaster checking bag unacceptable',\n 'united let do not think i have ever fly problem bad airline period',\n 'united yes file claim hope receive luggage ridiculous purchase item go sleep reimbursement',\n 'united ua ordlhr bag load min late flight frigid air cabin plane feel like fall apart upgrade long haul fleet',\n 'united flight attendant never serve beverage tea check give ua notcool',\n 'united load balancing system apparently systemwide major impact united airlines flight cyberattack',\n 'united unscheduled refuel stop miss connect flight r home n look ward bed big pbj sandwich',\n 'united americanair spend hundred rectify situation guy go quiet',\n 'united ua sit ewr nearly hour ske pilot say computer clue leave help',\n 'united americanair that s end come travel literally extra day half',\n 'united make upgrade list fly st tomorrow min first time ever statusmatchpaidoff httptcoatfrkpgoy',\n 'united refund us vacation get free room night make make us sleep dia',\n 'united thanks reminder fun ride httptcoppvarchf',\n 'united receive luggage also look left snow arrive i be ask people refund',\n 'united updated aircraft wifi device entertainment outlet do not get charge device',\n 'united one scan inside plane ask people line around plane go',\n 'united gate change two delay even crew think airline suck',\n 'united i be frustrated waste day due equipment failure',\n 'united computers stop give update take flight info app that s ridiculous keep people update',\n 'united soooo day you have offer response assume poor treatment gate agent norm',\n 'united terrific many thank look forward back ua tomorrow great flight vancouver',\n 'united calls result hrs hold time day wait check suspect code share fare nothing investigatedmy time waste',\n 'united taken week cust care respond case request refund wifi working get update',\n 'united appreciate effort get home',\n 'united that s corrective spend hour try book online receive error click final purchase button',\n 'united today fine could prevent one gate agent advise passenger',\n 'united real deal delay flight ua denver vegas',\n 'united ua madrid arrive agent mass confusion send fro ua employee maryjo rude unhelpful',\n 'united system failure bad trend software project like fly airplane there s thing emergency takeoff',\n 'united lots report system failure delay flight last week currently sit tarmac ogg hour',\n 'united reboot chicago dispatch system need pivotalcf i be tired sitting plane',\n 'united despite shaky connection look like ill get home tonight great job united touch go',\n 'united httptcohjkqchn however completely controlthe price still display httptcohjkqchn',\n 'united aircraft close gate flight one close gate go chicago',\n 'united tell file claim clothing purchase',\n 'united comically return flight ase two united flight board adjacent gate clear plane board',\n 'united grkm file reference',\n 'united wouldhow contact discuss poor experience customer service would give shoot',\n 'united ua pacific rim date night cut constantly randomly one spot repeatably',\n 'united try since file report',\n 'united send email bad experience send back generic response yet another reason ill never fly',\n 'united mom leave kindle flight today burgundy case light seat anyone find',\n 'united ticket please refund unnecessary upgrade fee',\n 'united horrible lose carseat expect us use loner carseat safety regulation say illegal use use car seat',\n 'united thank',\n 'decision decisions mandarinjourney united we d love try service offer status match httptcoxbqqqbrgvf ^kp',\n 'need info unite momsgoodeat great amenity kit pjs include status match aa ^kp',\n 'united do not care thehipmunk link show wrong price siteit site responsibility ensure correctness',\n 'united flights lie flat seating stl pdx around date march',\n 'united need get home th they be tell it will th night compensation anything do',\n 'united mllovelace baggage fee waive premier member please see httptcouduwmde ^jp what s point membership',\n 'united wonderful bag claim people finally bag catch early flight original flight land wastedtime',\n 'united dmed thank',\n 'united thanks well touch',\n 'united thanks karen salisbury iah amazing customer service find daughter bag lose ua make day',\n 'united days late flightr bag leave iad united help everyone tell different story',\n 'united renoairport hi direct flight houston reno begin do not see day march',\n 'united like continental chicken feat fair',\n 'united assist current flight status flt dfw tomorrow',\n 'united leave comment customer care thank contact',\n 'united lose gate check bag den ord direct flight ugh',\n 'united caught early flight ord gate check bag you have lose ohare original flight land minute frustrating',\n 'yes thank much united whitterbug see speak reservation team they have reinstate flight thank ^ey',\n 'united captain behalf front office welcome board never hear laughedhard funnycaptain',\n 'united please follow dm miss bag',\n 'united clear luggage comment reference photo attach flight jac httptcopnbajfkmhg',\n 'united great fare',\n 'united leave item plane call non stop one answer please help',\n 'united awesome ill book next christmas vacatinn december way want devalue mileage plus',\n 'united what s good number call speak someone fix people luggage saturday',\n 'united thank u secured room night thx helpful customer service rep n dorn thank u goodenoughmother',\n 'united where s damn bag',\n 'united well someone tell employee denver baggage claim still bag',\n 'united greetings ua club member idea use air canada lounge yvr fly ua tomorrow',\n 'united mexico international us',\n 'united divert miss connect flight tell bag way msy people care',\n 'united male agnt las threaten canadian cust cust take pic gate agent announce can not help rebook friendlyskie',\n 'united apollochplayers want go home tonight cancel flight last leg reserv wout permission phrps',\n 'united stress rude agent overwhelm delyd flight lasden yell several people pretty friendlyskie',\n 'united land boston last night hour travel rough tho',\n 'united fail cancel flightled flight frm gjt use reserv home iah sea reflight booking problem wout permission phrps',\n 'send thank u rt united goodenufmother please dm confirmation number reflight booking problem need thank ^ey',\n 'united make fly list airline wait connector late flight stick iah',\n 'united what s deal u provide voucher overnight cozy floor ohare gross helpmeplease anyonethere',\n 'united also mere fact go online issue statement vice call talk directly one good example',\n 'united thank fly newark vaileagle',\n 'united weekend deal company would say otherwise',\n 'united httptcohpsqvrjk flight go get plane businesstravel goodenoughmother',\n 'united proper response sorry wait flight look issue that s delta would handle',\n 'united customer service terrible stand inline hour flight hour late flightr still bagdisgutedindenver',\n 'united please upload march ondemand entertainment listing website',\n 'united inadequate accident',\n 'united reebok rockinwellness denver international airport httpstcotkvmhbkec',\n 'united thank respond quickly helpful tool dustyob',\n 'united boarding time show min gate agent start show check bag httptcozcbjyolsn',\n 'united agent las let customer know can not help rebook delay flight den unfriendlyskie httptcoquzvmkrtr',\n 'united empathizes w disappointment stclass flight wnonworking entertainmnt worth unfriendlyskies httptcoloecogmvd',\n 'united do not work',\n 'united see message today mcdonnell douglas dc model hear read goodnight',\n 'united search mileage ticket bom could not find single one saver award see play earn mile can not use',\n 'united flight arrive minute early wait hour bag',\n 'united that s issue fact one even call despite promise confirm bag location',\n 'united what s girl get to get flight name change buy one mean ex boyfriend need girl trip stat',\n 'united thank sign notification shall watch wait',\n 'united still wait hear back wallet steal one plane would appreciate resolution',\n 'united would love someone could get back austin tonight wish wait til tomorrow morning',\n 'united flysaa lost baggage hear different thing different employee united flysaa say nothing',\n 'united cs think mile repair damage do interesting travel united exp bad flight ever',\n 'united flight dfw tuesday far advance give notice cancel flightle',\n 'united sign notification first trip update sure happen',\n 'united thank take care everything make right that s experience i be use open app find flight change',\n 'united line response i be wait tomorrow morning flight overbooke',\n 'united take exact aircraft lax day ago fit problem agent today tell nonsense policy change',\n 'united helpful agents club help baggage fee night lifestop business silverairway',\n 'united never hear httptcoqdebyahqfm',\n 'southwestair do not charge ticket change fee incur mysterious cost incur united',\n 'united exhausted frustrated link fb post abt travel issue httpstcolarkcvcs',\n 'united deny get plane wo get chance prove fit i be rookie read bio',\n 'united that s exactly point fit i be premier access boarding group return ticket i have yrs',\n 'united i have never experience bad customer service place blame codeshare partner assume responsibility unacceptable',\n 'united currently board check terrible staff rude expensive luggage throw around etc',\n 'united fucked void ticket keep money even apology never fly airline unitedairline',\n 'united bad customer svcs kevin rep call center must investigate baggage lose there s help argument',\n 'united sell ticket silverairways httptcoonhxhcobk terrible service ua staff can not reach silver',\n 'united get demote gold cuz hubby get pqd tho enuf spend goldsspousaldiscriminationangry',\n 'united thank',\n 'united direct flights belfast intl newark resume winter break thank',\n 'united favorite way travel thank httptcovgnxckg',\n 'united yes awful weather appear get home',\n 'united yes lots terrible customer service newark despite raise complaint ignore hence tweet',\n 'united lovely new plane lga ord power outlet',\n 'united tweet i d number will not reveal home address anyone web',\n 'united file delayed bag report saturday flight cancel flightle never go anywhere',\n 'united person currently bettween gate lax',\n 'united need lands ewr baggage claim file send employee droppeditoffyet',\n 'united rarely cease amazefor bad hope last time fly',\n 'united thank quick response can not dm follow well',\n 'united icloud yet please help',\n 'united need phone number baggage claim lax mom leave phone someone call say would put',\n 'united response back',\n 'united atrocious customer service',\n 'united honor absurdly low mistake fare httptcozjvilw va usatoday',\n 'united albanyairport delay departure check bag gate claim space fill walk open spaces delay poorcustomerservice',\n 'united cancel flight flight reason phone hour vacation',\n 'united dfpietra that s response shake head back forth tsk betterfrom customer service apology',\n 'united thanks k mile rtb europe multiple destination could stop us wayway back mileage diff',\n 'united course bag frustrated',\n 'united bad avoid like plague',\n 'united bad airline world',\n 'united someone need dm resolve correctly extremely disappoint service receive terrible management',\n 'united premier gold desk change flight waif fee give wrong flight jana acosta salt lake refuse service angry',\n 'united give one thing consistent unfortunately consistent job well alwaysdelayedonunite',\n 'united right i be angry',\n 'united first time fly united also last time terrible back virginatlantic branson virginatlantic unitedairline',\n 'united use committed continentalairline flyer merger remember switch southwestair communicationfail',\n 'united least could offer ticket coach instead cancel flight reservation glitch notfair',\n 'united i be say make flight poornoncommunication unaccounted lose time lot frustrate flyer stand around',\n 'united think dm would well',\n 'united gate announcement states delay due maintenance yet app say late flight arrive aircraft tell truth unfriendly',\n 'united easily bad company ever experience lose someone personal possession could not care less',\n 'united app show arrive aircraft early depart flight delay due late flight arrive aircraft unfriendly',\n 'united already airport hrs late flightr still guy really kill today try stay positive',\n 'united uniteds service level reach etihad let realistically lufthansa ill consider',\n 'united really someone call sick someone forget call replacement hour late flight take theworst',\n 'united ask flight attendant typical compensation would say may get free tv unacceptable',\n 'united do',\n 'united thank ^jh appreciate prompt responsesme passenger',\n 'united disappointment today simply put rather unpleased thing currently flight delay can not wait get home',\n 'united round trip nonenglish speak friend strand twice hour time staff member rude',\n 'united find group people actually hate people isis that s right united airlines',\n 'united nope walk orf terminal united agent find show last minute board us many panicked people',\n 'united thank',\n 'united time finally get dallas could drive less frustration cheap',\n 'united i be try get final destination need compensation hrs personal time waste',\n 'united guy really customer service cluecould spend effort clearing bin rollerboard instead art project mine',\n 'united priority iove',\n 'united please premier platinum',\n ...]"
     },
     "execution_count": 33,
     "metadata": {},
     "output_type": "execute_result"
    }
   ],
   "source": [
    "def get_all_tweets(df, text_col):\n",
    "    tweet_array = []\n",
    "    for i in range( 0, df[text_col].size ):\n",
    "        tweet_array.append(df[text_col][i])\n",
    "\n",
    "    return tweet_array\n",
    "\n",
    "all_tweets = get_all_tweets(stemmed_df, text)"
   ],
   "metadata": {
    "collapsed": false,
    "pycharm": {
     "name": "#%%\n"
    }
   }
  },
  {
   "cell_type": "code",
   "execution_count": 39,
   "outputs": [
    {
     "data": {
      "text/plain": "array([[0, 0, 0, ..., 0, 0, 0],\n       [0, 0, 0, ..., 1, 0, 0],\n       [0, 0, 0, ..., 0, 0, 0],\n       ...,\n       [0, 0, 0, ..., 0, 0, 0],\n       [0, 0, 0, ..., 0, 0, 0],\n       [0, 0, 0, ..., 0, 0, 0]], dtype=int64)"
     },
     "execution_count": 39,
     "metadata": {},
     "output_type": "execute_result"
    }
   ],
   "source": [
    "count_vectorizer = CountVectorizer(analyzer = \"word\",\n",
    "                             tokenizer = None,\n",
    "                             preprocessor = None,\n",
    "                             stop_words = None,\n",
    "                             max_features = 1000)\n",
    "count_train_data_features = count_vectorizer.fit_transform(all_tweets)\n",
    "count_train_data_features = count_train_data_features.toarray()\n",
    "count_train_data_features"
   ],
   "metadata": {
    "collapsed": false,
    "pycharm": {
     "name": "#%%\n"
    }
   }
  },
  {
   "cell_type": "code",
   "execution_count": 40,
   "outputs": [],
   "source": [
    "labels = stemmed_df[airline_sentiment]"
   ],
   "metadata": {
    "collapsed": false,
    "pycharm": {
     "name": "#%%\n"
    }
   }
  },
  {
   "cell_type": "markdown",
   "source": [
    "###### b. Use TfidVectorizer"
   ],
   "metadata": {
    "collapsed": false,
    "pycharm": {
     "name": "#%% md\n"
    }
   }
  },
  {
   "cell_type": "code",
   "execution_count": 42,
   "outputs": [
    {
     "data": {
      "text/plain": "(14640, 1000)"
     },
     "execution_count": 42,
     "metadata": {},
     "output_type": "execute_result"
    }
   ],
   "source": [
    "tfid_vectorizer = TfidfVectorizer(max_features=1000)\n",
    "tfid_data_features = tfid_vectorizer.fit_transform(stemmed_df[text])\n",
    "tfid_data_features = tfid_data_features.toarray()\n",
    "tfid_data_features.shape"
   ],
   "metadata": {
    "collapsed": false,
    "pycharm": {
     "name": "#%%\n"
    }
   }
  },
  {
   "cell_type": "markdown",
   "source": [
    "##### 5. build and eval models"
   ],
   "metadata": {
    "collapsed": false,
    "pycharm": {
     "name": "#%% md\n"
    }
   }
  },
  {
   "cell_type": "markdown",
   "source": [
    "###### Count Vectorizer model"
   ],
   "metadata": {
    "collapsed": false,
    "pycharm": {
     "name": "#%% md\n"
    }
   }
  },
  {
   "cell_type": "code",
   "execution_count": 43,
   "outputs": [
    {
     "name": "stderr",
     "output_type": "stream",
     "text": [
      "[Parallel(n_jobs=-1)]: Using backend ThreadingBackend with 8 concurrent workers.\n",
      "[Parallel(n_jobs=-1)]: Done  25 tasks      | elapsed:    2.3s\n",
      "[Parallel(n_jobs=-1)]: Done 100 out of 100 | elapsed:    8.0s finished\n",
      "[Parallel(n_jobs=-1)]: Using backend LokyBackend with 8 concurrent workers.\n",
      "[Parallel(n_jobs=-1)]: Done  25 tasks      | elapsed:    4.5s\n",
      "[Parallel(n_jobs=-1)]: Done 100 out of 100 | elapsed:    9.8s finished\n",
      "[Parallel(n_jobs=8)]: Using backend ThreadingBackend with 8 concurrent workers.\n",
      "[Parallel(n_jobs=8)]: Done  25 tasks      | elapsed:    0.0s\n",
      "[Parallel(n_jobs=8)]: Done 100 out of 100 | elapsed:    0.0s finished\n",
      "[Parallel(n_jobs=-1)]: Using backend LokyBackend with 8 concurrent workers.\n",
      "[Parallel(n_jobs=-1)]: Done  25 tasks      | elapsed:    2.0s\n",
      "[Parallel(n_jobs=-1)]: Done 100 out of 100 | elapsed:    7.0s finished\n",
      "[Parallel(n_jobs=8)]: Using backend ThreadingBackend with 8 concurrent workers.\n",
      "[Parallel(n_jobs=8)]: Done  25 tasks      | elapsed:    0.0s\n",
      "[Parallel(n_jobs=8)]: Done 100 out of 100 | elapsed:    0.0s finished\n",
      "[Parallel(n_jobs=-1)]: Using backend LokyBackend with 8 concurrent workers.\n",
      "[Parallel(n_jobs=-1)]: Done  25 tasks      | elapsed:    2.1s\n",
      "[Parallel(n_jobs=-1)]: Done 100 out of 100 | elapsed:    7.0s finished\n",
      "[Parallel(n_jobs=8)]: Using backend ThreadingBackend with 8 concurrent workers.\n",
      "[Parallel(n_jobs=8)]: Done  25 tasks      | elapsed:    0.0s\n",
      "[Parallel(n_jobs=8)]: Done 100 out of 100 | elapsed:    0.0s finished\n",
      "[Parallel(n_jobs=-1)]: Using backend LokyBackend with 8 concurrent workers.\n",
      "[Parallel(n_jobs=-1)]: Done  25 tasks      | elapsed:    2.0s\n",
      "[Parallel(n_jobs=-1)]: Done 100 out of 100 | elapsed:    7.1s finished\n",
      "[Parallel(n_jobs=8)]: Using backend ThreadingBackend with 8 concurrent workers.\n",
      "[Parallel(n_jobs=8)]: Done  25 tasks      | elapsed:    0.0s\n",
      "[Parallel(n_jobs=8)]: Done 100 out of 100 | elapsed:    0.0s finished\n",
      "[Parallel(n_jobs=-1)]: Using backend LokyBackend with 8 concurrent workers.\n",
      "[Parallel(n_jobs=-1)]: Done  25 tasks      | elapsed:    2.3s\n",
      "[Parallel(n_jobs=-1)]: Done 100 out of 100 | elapsed:    7.7s finished\n",
      "[Parallel(n_jobs=8)]: Using backend ThreadingBackend with 8 concurrent workers.\n",
      "[Parallel(n_jobs=8)]: Done  25 tasks      | elapsed:    0.0s\n",
      "[Parallel(n_jobs=8)]: Done 100 out of 100 | elapsed:    0.0s finished\n",
      "[Parallel(n_jobs=-1)]: Using backend LokyBackend with 8 concurrent workers.\n",
      "[Parallel(n_jobs=-1)]: Done  25 tasks      | elapsed:    2.2s\n",
      "[Parallel(n_jobs=-1)]: Done 100 out of 100 | elapsed:    7.6s finished\n",
      "[Parallel(n_jobs=8)]: Using backend ThreadingBackend with 8 concurrent workers.\n",
      "[Parallel(n_jobs=8)]: Done  25 tasks      | elapsed:    0.0s\n",
      "[Parallel(n_jobs=8)]: Done 100 out of 100 | elapsed:    0.0s finished\n",
      "[Parallel(n_jobs=-1)]: Using backend LokyBackend with 8 concurrent workers.\n",
      "[Parallel(n_jobs=-1)]: Done  25 tasks      | elapsed:    2.4s\n",
      "[Parallel(n_jobs=-1)]: Done 100 out of 100 | elapsed:    7.9s finished\n",
      "[Parallel(n_jobs=8)]: Using backend ThreadingBackend with 8 concurrent workers.\n",
      "[Parallel(n_jobs=8)]: Done  25 tasks      | elapsed:    0.0s\n",
      "[Parallel(n_jobs=8)]: Done 100 out of 100 | elapsed:    0.0s finished\n",
      "[Parallel(n_jobs=-1)]: Using backend LokyBackend with 8 concurrent workers.\n",
      "[Parallel(n_jobs=-1)]: Done  25 tasks      | elapsed:    2.1s\n",
      "[Parallel(n_jobs=-1)]: Done 100 out of 100 | elapsed:    7.3s finished\n",
      "[Parallel(n_jobs=8)]: Using backend ThreadingBackend with 8 concurrent workers.\n",
      "[Parallel(n_jobs=8)]: Done  25 tasks      | elapsed:    0.0s\n",
      "[Parallel(n_jobs=8)]: Done 100 out of 100 | elapsed:    0.0s finished\n",
      "[Parallel(n_jobs=-1)]: Using backend LokyBackend with 8 concurrent workers.\n",
      "[Parallel(n_jobs=-1)]: Done  25 tasks      | elapsed:    2.0s\n",
      "[Parallel(n_jobs=-1)]: Done 100 out of 100 | elapsed:    7.1s finished\n",
      "[Parallel(n_jobs=8)]: Using backend ThreadingBackend with 8 concurrent workers.\n",
      "[Parallel(n_jobs=8)]: Done  25 tasks      | elapsed:    0.0s\n",
      "[Parallel(n_jobs=8)]: Done 100 out of 100 | elapsed:    0.0s finished\n",
      "[Parallel(n_jobs=-1)]: Using backend LokyBackend with 8 concurrent workers.\n",
      "[Parallel(n_jobs=-1)]: Done  25 tasks      | elapsed:    2.0s\n",
      "[Parallel(n_jobs=-1)]: Done 100 out of 100 | elapsed:    8.3s finished\n",
      "[Parallel(n_jobs=8)]: Using backend ThreadingBackend with 8 concurrent workers.\n",
      "[Parallel(n_jobs=8)]: Done  25 tasks      | elapsed:    0.0s\n",
      "[Parallel(n_jobs=8)]: Done 100 out of 100 | elapsed:    0.0s finished\n"
     ]
    },
    {
     "name": "stdout",
     "output_type": "stream",
     "text": [
      "building tree 1 of 100building tree 2 of 100building tree 3 of 100\n",
      "\n",
      "building tree 4 of 100\n",
      "building tree 5 of 100\n",
      "\n",
      "building tree 6 of 100\n",
      "building tree 7 of 100\n",
      "building tree 8 of 100\n",
      "building tree 9 of 100\n",
      "building tree 10 of 100\n",
      "building tree 11 of 100\n",
      "building tree 12 of 100\n",
      "building tree 13 of 100\n",
      "building tree 14 of 100\n",
      "building tree 15 of 100\n",
      "building tree 16 of 100\n",
      "building tree 17 of 100\n",
      "building tree 18 of 100\n",
      "building tree 19 of 100\n",
      "building tree 20 of 100\n",
      "building tree 21 of 100\n",
      "building tree 22 of 100\n",
      "building tree 23 of 100\n",
      "building tree 24 of 100\n",
      "building tree 25 of 100\n",
      "building tree 26 of 100\n",
      "building tree 27 of 100\n",
      "building tree 28 of 100\n",
      "building tree 29 of 100\n",
      "building tree 30 of 100\n",
      "building tree 31 of 100\n",
      "building tree 32 of 100\n",
      "building tree 33 of 100\n",
      "building tree 34 of 100\n",
      "building tree 35 of 100\n",
      "building tree 36 of 100\n",
      "building tree 37 of 100\n",
      "building tree 38 of 100\n",
      "building tree 39 of 100\n",
      "building tree 40 of 100\n",
      "building tree 41 of 100\n",
      "building tree 42 of 100\n",
      "building tree 43 of 100\n",
      "building tree 44 of 100\n",
      "building tree 45 of 100\n",
      "building tree 46 of 100\n",
      "building tree 47 of 100\n",
      "building tree 48 of 100\n",
      "building tree 49 of 100\n",
      "building tree 50 of 100\n",
      "building tree 51 of 100\n",
      "building tree 52 of 100\n",
      "building tree 53 of 100\n",
      "building tree 54 of 100\n",
      "building tree 55 of 100\n",
      "building tree 56 of 100\n",
      "building tree 57 of 100\n",
      "building tree 58 of 100\n",
      "building tree 59 of 100\n",
      "building tree 60 of 100\n",
      "building tree 61 of 100\n",
      "building tree 62 of 100\n",
      "building tree 63 of 100\n",
      "building tree 64 of 100\n",
      "building tree 65 of 100\n",
      "building tree 66 of 100\n",
      "building tree 67 of 100\n",
      "building tree 68 of 100\n",
      "building tree 69 of 100\n",
      "building tree 70 of 100\n",
      "building tree 71 of 100\n",
      "building tree 72 of 100\n",
      "building tree 73 of 100\n",
      "building tree 74 of 100\n",
      "building tree 75 of 100\n",
      "building tree 76 of 100\n",
      "building tree 77 of 100\n",
      "building tree 78 of 100\n",
      "building tree 79 of 100\n",
      "building tree 80 of 100\n",
      "building tree 81 of 100\n",
      "building tree 82 of 100\n",
      "building tree 83 of 100\n",
      "building tree 84 of 100\n",
      "building tree 85 of 100\n",
      "building tree 86 of 100\n",
      "building tree 87 of 100\n",
      "building tree 88 of 100\n",
      "building tree 89 of 100\n",
      "building tree 90 of 100\n",
      "building tree 91 of 100\n",
      "building tree 92 of 100\n",
      "building tree 93 of 100\n",
      "building tree 94 of 100\n",
      "building tree 95 of 100\n",
      "building tree 96 of 100\n",
      "building tree 97 of 100\n",
      "building tree 98 of 100\n",
      "building tree 99 of 100\n",
      "building tree 100 of 100\n",
      "RandomForestClassifier(n_jobs=-1, verbose=2)\n",
      "0.7204918032786886\n"
     ]
    }
   ],
   "source": [
    "forest = RandomForestClassifier(verbose=2,n_jobs=-1,n_estimators = 100)\n",
    "forest = forest.fit( count_train_data_features, labels )\n",
    "print (forest)\n",
    "print (np.mean(cross_val_score(forest,count_train_data_features,labels,cv=10)))"
   ],
   "metadata": {
    "collapsed": false,
    "pycharm": {
     "name": "#%%\n"
    }
   }
  },
  {
   "cell_type": "markdown",
   "source": [
    "###### Tfid Vectorizer model"
   ],
   "metadata": {
    "collapsed": false,
    "pycharm": {
     "name": "#%% md\n"
    }
   }
  },
  {
   "cell_type": "code",
   "execution_count": 44,
   "outputs": [
    {
     "name": "stdout",
     "output_type": "stream",
     "text": [
      "building tree 1 of 100building tree 2 of 100building tree 3 of 100\n",
      "building tree 4 of 100building tree 5 of 100building tree 6 of 100\n",
      "\n",
      "building tree 7 of 100\n",
      "building tree 8 of 100\n",
      "\n",
      "\n",
      "\n",
      "building tree 9 of 100\n",
      "building tree 10 of 100\n",
      "building tree 11 of 100\n",
      "building tree 12 of 100\n",
      "building tree 13 of 100\n",
      "building tree 14 of 100\n",
      "building tree 15 of 100\n",
      "building tree 16 of 100\n",
      "building tree 17 of 100\n",
      "building tree 18 of 100\n",
      "building tree 19 of 100\n",
      "building tree 20 of 100\n",
      "building tree 21 of 100\n",
      "building tree 22 of 100\n",
      "building tree 23 of 100\n",
      "building tree 24 of 100\n",
      "building tree 25 of 100\n",
      "building tree 26 of 100\n",
      "building tree 27 of 100\n",
      "building tree 28 of 100\n",
      "building tree 29 of 100\n",
      "building tree 30 of 100\n",
      "building tree 31 of 100\n",
      "building tree 32 of 100\n",
      "building tree 33 of 100\n",
      "building tree 34 of 100\n",
      "building tree 35 of 100\n",
      "building tree 36 of 100\n",
      "building tree 37 of 100\n",
      "building tree 38 of 100\n",
      "building tree 39 of 100\n",
      "building tree 40 of 100\n",
      "building tree 41 of 100\n",
      "building tree 42 of 100\n",
      "building tree 43 of 100\n",
      "building tree 44 of 100\n",
      "building tree 45 of 100\n",
      "building tree 46 of 100\n",
      "building tree 47 of 100\n",
      "building tree 48 of 100\n",
      "building tree 49 of 100\n",
      "building tree 50 of 100\n",
      "building tree 51 of 100\n",
      "building tree 52 of 100\n",
      "building tree 53 of 100\n",
      "building tree 54 of 100\n",
      "building tree 55 of 100\n",
      "building tree 56 of 100\n",
      "building tree 57 of 100\n",
      "building tree 58 of 100\n",
      "building tree 59 of 100\n",
      "building tree 60 of 100\n",
      "building tree 61 of 100\n",
      "building tree 62 of 100\n",
      "building tree 63 of 100\n",
      "building tree 64 of 100\n",
      "building tree 65 of 100\n",
      "building tree 66 of 100\n",
      "building tree 67 of 100\n",
      "building tree 68 of 100\n",
      "building tree 69 of 100\n",
      "building tree 70 of 100\n",
      "building tree 71 of 100\n",
      "building tree 72 of 100\n",
      "building tree 73 of 100\n",
      "building tree 74 of 100\n",
      "building tree 75 of 100\n",
      "building tree 76 of 100\n",
      "building tree 77 of 100\n",
      "building tree 78 of 100\n",
      "building tree 79 of 100\n",
      "building tree 80 of 100\n",
      "building tree 81 of 100\n",
      "building tree 82 of 100\n",
      "building tree 83 of 100\n",
      "building tree 84 of 100\n",
      "building tree 85 of 100\n",
      "building tree 86 of 100\n",
      "building tree 87 of 100\n",
      "building tree 88 of 100\n",
      "building tree 89 of 100\n",
      "building tree 90 of 100\n",
      "building tree 91 of 100\n",
      "building tree 92 of 100\n",
      "building tree 93 of 100\n",
      "building tree 94 of 100building tree 95 of 100\n",
      "\n",
      "building tree 96 of 100\n",
      "building tree 97 of 100\n",
      "building tree 98 of 100\n",
      "building tree 99 of 100\n",
      "building tree 100 of 100\n",
      "RandomForestClassifier(n_jobs=-1, verbose=2)\n",
      "0.7165300546448088\n"
     ]
    },
    {
     "name": "stderr",
     "output_type": "stream",
     "text": [
      "[Parallel(n_jobs=-1)]: Using backend ThreadingBackend with 8 concurrent workers.\n",
      "[Parallel(n_jobs=-1)]: Done  25 tasks      | elapsed:    2.7s\n",
      "[Parallel(n_jobs=-1)]: Done 100 out of 100 | elapsed:    9.6s finished\n",
      "[Parallel(n_jobs=-1)]: Using backend LokyBackend with 8 concurrent workers.\n",
      "[Parallel(n_jobs=-1)]: Done  25 tasks      | elapsed:    2.4s\n",
      "[Parallel(n_jobs=-1)]: Done 100 out of 100 | elapsed:    9.2s finished\n",
      "[Parallel(n_jobs=8)]: Using backend ThreadingBackend with 8 concurrent workers.\n",
      "[Parallel(n_jobs=8)]: Done  25 tasks      | elapsed:    0.0s\n",
      "[Parallel(n_jobs=8)]: Done 100 out of 100 | elapsed:    0.0s finished\n",
      "[Parallel(n_jobs=-1)]: Using backend LokyBackend with 8 concurrent workers.\n",
      "[Parallel(n_jobs=-1)]: Done  25 tasks      | elapsed:    2.5s\n",
      "[Parallel(n_jobs=-1)]: Done 100 out of 100 | elapsed:    8.7s finished\n",
      "[Parallel(n_jobs=8)]: Using backend ThreadingBackend with 8 concurrent workers.\n",
      "[Parallel(n_jobs=8)]: Done  25 tasks      | elapsed:    0.0s\n",
      "[Parallel(n_jobs=8)]: Done 100 out of 100 | elapsed:    0.0s finished\n",
      "[Parallel(n_jobs=-1)]: Using backend LokyBackend with 8 concurrent workers.\n",
      "[Parallel(n_jobs=-1)]: Done  25 tasks      | elapsed:    2.3s\n",
      "[Parallel(n_jobs=-1)]: Done 100 out of 100 | elapsed:    8.4s finished\n",
      "[Parallel(n_jobs=8)]: Using backend ThreadingBackend with 8 concurrent workers.\n",
      "[Parallel(n_jobs=8)]: Done  25 tasks      | elapsed:    0.0s\n",
      "[Parallel(n_jobs=8)]: Done 100 out of 100 | elapsed:    0.0s finished\n",
      "[Parallel(n_jobs=-1)]: Using backend LokyBackend with 8 concurrent workers.\n",
      "[Parallel(n_jobs=-1)]: Done  25 tasks      | elapsed:    2.6s\n",
      "[Parallel(n_jobs=-1)]: Done 100 out of 100 | elapsed:    9.5s finished\n",
      "[Parallel(n_jobs=8)]: Using backend ThreadingBackend with 8 concurrent workers.\n",
      "[Parallel(n_jobs=8)]: Done  25 tasks      | elapsed:    0.0s\n",
      "[Parallel(n_jobs=8)]: Done 100 out of 100 | elapsed:    0.0s finished\n",
      "[Parallel(n_jobs=-1)]: Using backend LokyBackend with 8 concurrent workers.\n",
      "[Parallel(n_jobs=-1)]: Done  25 tasks      | elapsed:    2.7s\n",
      "[Parallel(n_jobs=-1)]: Done 100 out of 100 | elapsed:   10.3s finished\n",
      "[Parallel(n_jobs=8)]: Using backend ThreadingBackend with 8 concurrent workers.\n",
      "[Parallel(n_jobs=8)]: Done  25 tasks      | elapsed:    0.0s\n",
      "[Parallel(n_jobs=8)]: Done 100 out of 100 | elapsed:    0.0s finished\n",
      "[Parallel(n_jobs=-1)]: Using backend LokyBackend with 8 concurrent workers.\n",
      "[Parallel(n_jobs=-1)]: Done  25 tasks      | elapsed:    2.6s\n",
      "[Parallel(n_jobs=-1)]: Done 100 out of 100 | elapsed:    9.7s finished\n",
      "[Parallel(n_jobs=8)]: Using backend ThreadingBackend with 8 concurrent workers.\n",
      "[Parallel(n_jobs=8)]: Done  25 tasks      | elapsed:    0.0s\n",
      "[Parallel(n_jobs=8)]: Done 100 out of 100 | elapsed:    0.0s finished\n",
      "[Parallel(n_jobs=-1)]: Using backend LokyBackend with 8 concurrent workers.\n",
      "[Parallel(n_jobs=-1)]: Done  25 tasks      | elapsed:    2.9s\n",
      "[Parallel(n_jobs=-1)]: Done 100 out of 100 | elapsed:   11.0s finished\n",
      "[Parallel(n_jobs=8)]: Using backend ThreadingBackend with 8 concurrent workers.\n",
      "[Parallel(n_jobs=8)]: Done  25 tasks      | elapsed:    0.0s\n",
      "[Parallel(n_jobs=8)]: Done 100 out of 100 | elapsed:    0.0s finished\n",
      "[Parallel(n_jobs=-1)]: Using backend LokyBackend with 8 concurrent workers.\n",
      "[Parallel(n_jobs=-1)]: Done  25 tasks      | elapsed:    2.3s\n",
      "[Parallel(n_jobs=-1)]: Done 100 out of 100 | elapsed:    8.4s finished\n",
      "[Parallel(n_jobs=8)]: Using backend ThreadingBackend with 8 concurrent workers.\n",
      "[Parallel(n_jobs=8)]: Done  25 tasks      | elapsed:    0.0s\n",
      "[Parallel(n_jobs=8)]: Done 100 out of 100 | elapsed:    0.0s finished\n",
      "[Parallel(n_jobs=-1)]: Using backend LokyBackend with 8 concurrent workers.\n",
      "[Parallel(n_jobs=-1)]: Done  25 tasks      | elapsed:    2.5s\n",
      "[Parallel(n_jobs=-1)]: Done 100 out of 100 | elapsed:    8.5s finished\n",
      "[Parallel(n_jobs=8)]: Using backend ThreadingBackend with 8 concurrent workers.\n",
      "[Parallel(n_jobs=8)]: Done  25 tasks      | elapsed:    0.0s\n",
      "[Parallel(n_jobs=8)]: Done 100 out of 100 | elapsed:    0.0s finished\n",
      "[Parallel(n_jobs=-1)]: Using backend LokyBackend with 8 concurrent workers.\n",
      "[Parallel(n_jobs=-1)]: Done  25 tasks      | elapsed:    2.5s\n",
      "[Parallel(n_jobs=-1)]: Done 100 out of 100 | elapsed:    8.7s finished\n",
      "[Parallel(n_jobs=8)]: Using backend ThreadingBackend with 8 concurrent workers.\n",
      "[Parallel(n_jobs=8)]: Done  25 tasks      | elapsed:    0.0s\n",
      "[Parallel(n_jobs=8)]: Done 100 out of 100 | elapsed:    0.0s finished\n"
     ]
    }
   ],
   "source": [
    "forest = RandomForestClassifier(verbose=2,n_jobs=-1,n_estimators = 100)\n",
    "forest = forest.fit( tfid_data_features, labels )\n",
    "print (forest)\n",
    "print (np.mean(cross_val_score(forest,tfid_data_features,labels,cv=10)))"
   ],
   "metadata": {
    "collapsed": false,
    "pycharm": {
     "name": "#%%\n"
    }
   }
  },
  {
   "cell_type": "markdown",
   "source": [
    "##### 6. Summarize your understanding of the application of various pre-processing and vectorization and performance of your model on this dataset\n",
    "kinda hard to see, but we have scores:\n",
    "\n",
    "count: 0.7204918032786886\n",
    "\n",
    "0.7165300546448088\n",
    "\n",
    "Before running this, i expected to the count to perform better, but i didnt expect it to be this close. I had thought since we were measuring the sentiment and of the\n",
    "tweets, that counting the number of words in a tweet seems to be a more natural way of measuring whether or not that tweet has a positive, neutral or negative sentiment."
   ],
   "metadata": {
    "collapsed": false
   }
  }
 ],
 "metadata": {
  "kernelspec": {
   "display_name": "Python 3",
   "language": "python",
   "name": "python3"
  },
  "language_info": {
   "codemirror_mode": {
    "name": "ipython",
    "version": 2
   },
   "file_extension": ".py",
   "mimetype": "text/x-python",
   "name": "python",
   "nbconvert_exporter": "python",
   "pygments_lexer": "ipython2",
   "version": "2.7.6"
  }
 },
 "nbformat": 4,
 "nbformat_minor": 0
}